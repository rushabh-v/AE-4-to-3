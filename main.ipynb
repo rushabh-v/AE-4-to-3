{
  "nbformat": 4,
  "nbformat_minor": 0,
  "metadata": {
    "colab": {
      "name": "main.ipynb",
      "provenance": [],
      "collapsed_sections": [],
      "include_colab_link": true
    },
    "kernelspec": {
      "name": "python3",
      "display_name": "Python 3"
    },
    "accelerator": "GPU"
  },
  "cells": [
    {
      "cell_type": "markdown",
      "metadata": {
        "id": "view-in-github",
        "colab_type": "text"
      },
      "source": [
        "<a href=\"https://colab.research.google.com/github/rushabh-v/Autoencoder-4-to-3-variables/blob/master/main.ipynb\" target=\"_parent\"><img src=\"https://colab.research.google.com/assets/colab-badge.svg\" alt=\"Open In Colab\"/></a>"
      ]
    },
    {
      "cell_type": "code",
      "metadata": {
        "id": "4uZ3RziH7aIq",
        "colab_type": "code",
        "outputId": "abed7470-2edf-4c29-e220-4e619001b1a9",
        "colab": {
          "base_uri": "https://localhost:8080/",
          "height": 122
        }
      },
      "source": [
        "from google.colab import drive\n",
        "drive.mount('/content/drive')"
      ],
      "execution_count": 0,
      "outputs": [
        {
          "output_type": "stream",
          "text": [
            "Go to this URL in a browser: https://accounts.google.com/o/oauth2/auth?client_id=947318989803-6bn6qk8qdgf4n4g3pfee6491hc0brc4i.apps.googleusercontent.com&redirect_uri=urn%3aietf%3awg%3aoauth%3a2.0%3aoob&response_type=code&scope=email%20https%3a%2f%2fwww.googleapis.com%2fauth%2fdocs.test%20https%3a%2f%2fwww.googleapis.com%2fauth%2fdrive%20https%3a%2f%2fwww.googleapis.com%2fauth%2fdrive.photos.readonly%20https%3a%2f%2fwww.googleapis.com%2fauth%2fpeopleapi.readonly\n",
            "\n",
            "Enter your authorization code:\n",
            "··········\n",
            "Mounted at /content/drive\n"
          ],
          "name": "stdout"
        }
      ]
    },
    {
      "cell_type": "markdown",
      "metadata": {
        "id": "kgm8owaT_tBh",
        "colab_type": "text"
      },
      "source": [
        "# Imports"
      ]
    },
    {
      "cell_type": "code",
      "metadata": {
        "id": "HkT-jaSoTiOm",
        "colab_type": "code",
        "colab": {}
      },
      "source": [
        "import numpy as np\n",
        "\n",
        "import pandas as pd\n",
        "\n",
        "from sklearn.decomposition import TruncatedSVD\n",
        "\n",
        "from fastai import basic_train, basic_data, train as Train\n",
        "from fastai.basic_data import DatasetType\n",
        "\n",
        "import torch\n",
        "import torch.nn as nn\n",
        "from torch.utils.data import TensorDataset\n",
        "from torch.utils.data import DataLoader\n",
        "\n",
        "import matplotlib as mpl\n",
        "import matplotlib.pyplot as plt\n"
      ],
      "execution_count": 0,
      "outputs": []
    },
    {
      "cell_type": "markdown",
      "metadata": {
        "id": "QRxiZlGq_2si",
        "colab_type": "text"
      },
      "source": [
        "# Load the data"
      ]
    },
    {
      "cell_type": "code",
      "metadata": {
        "id": "WYhUACd6VoIt",
        "colab_type": "code",
        "outputId": "8f887b33-c255-42b0-bba9-ddb95764575b",
        "colab": {
          "base_uri": "https://localhost:8080/",
          "height": 204
        }
      },
      "source": [
        "train = pd.read_pickle('Dataset/all_jets_train_4D_100_percent.pkl')\n",
        "test = pd.read_pickle('Dataset/all_jets_test_4D_100_percent.pkl')\n",
        "\n",
        "test.head(5)"
      ],
      "execution_count": 0,
      "outputs": [
        {
          "output_type": "execute_result",
          "data": {
            "text/html": [
              "<div>\n",
              "<style scoped>\n",
              "    .dataframe tbody tr th:only-of-type {\n",
              "        vertical-align: middle;\n",
              "    }\n",
              "\n",
              "    .dataframe tbody tr th {\n",
              "        vertical-align: top;\n",
              "    }\n",
              "\n",
              "    .dataframe thead th {\n",
              "        text-align: right;\n",
              "    }\n",
              "</style>\n",
              "<table border=\"1\" class=\"dataframe\">\n",
              "  <thead>\n",
              "    <tr style=\"text-align: right;\">\n",
              "      <th></th>\n",
              "      <th>m</th>\n",
              "      <th>pt</th>\n",
              "      <th>phi</th>\n",
              "      <th>eta</th>\n",
              "    </tr>\n",
              "  </thead>\n",
              "  <tbody>\n",
              "    <tr>\n",
              "      <th>85972</th>\n",
              "      <td>4983.729980</td>\n",
              "      <td>23798.070312</td>\n",
              "      <td>1.962157</td>\n",
              "      <td>-0.059532</td>\n",
              "    </tr>\n",
              "    <tr>\n",
              "      <th>38742</th>\n",
              "      <td>5435.273438</td>\n",
              "      <td>21881.867188</td>\n",
              "      <td>1.035412</td>\n",
              "      <td>0.734343</td>\n",
              "    </tr>\n",
              "    <tr>\n",
              "      <th>128711</th>\n",
              "      <td>5239.408691</td>\n",
              "      <td>24608.134766</td>\n",
              "      <td>-1.121055</td>\n",
              "      <td>0.828848</td>\n",
              "    </tr>\n",
              "    <tr>\n",
              "      <th>28751</th>\n",
              "      <td>14121.240234</td>\n",
              "      <td>203110.953125</td>\n",
              "      <td>0.324205</td>\n",
              "      <td>-2.571108</td>\n",
              "    </tr>\n",
              "    <tr>\n",
              "      <th>131358</th>\n",
              "      <td>3344.826660</td>\n",
              "      <td>24897.294922</td>\n",
              "      <td>0.395331</td>\n",
              "      <td>1.440069</td>\n",
              "    </tr>\n",
              "  </tbody>\n",
              "</table>\n",
              "</div>"
            ],
            "text/plain": [
              "                   m             pt       phi       eta\n",
              "85972    4983.729980   23798.070312  1.962157 -0.059532\n",
              "38742    5435.273438   21881.867188  1.035412  0.734343\n",
              "128711   5239.408691   24608.134766 -1.121055  0.828848\n",
              "28751   14121.240234  203110.953125  0.324205 -2.571108\n",
              "131358   3344.826660   24897.294922  0.395331  1.440069"
            ]
          },
          "metadata": {
            "tags": []
          },
          "execution_count": 11
        }
      ]
    },
    {
      "cell_type": "markdown",
      "metadata": {
        "id": "8YyoeFMyAKHV",
        "colab_type": "text"
      },
      "source": [
        "# Preprocessing\n",
        "\n",
        "### Normalization\n",
        "Make the inputs having `mean` of `0` and `standard deviation`\n",
        "of `1`. \n",
        "\n",
        "This fixes the outliers in the data and makes the learning process much easier, smoother and faster for the computer.\n",
        "\n",
        "note: All the data(e.g `train` and `test` data) should be normalized with the same mean and standard deviation."
      ]
    },
    {
      "cell_type": "code",
      "metadata": {
        "id": "zhxVlo6ZT21P",
        "colab_type": "code",
        "colab": {}
      },
      "source": [
        "mean = train.mean()\n",
        "std = train.std()\n",
        "\n",
        "train_data = (train - mean) / std\n",
        "test_data = (test - mean) / std\n",
        "\n",
        "train_x = train_data\n",
        "test_x = test_data\n",
        "train_y = train_x\n",
        "test_y = test_x"
      ],
      "execution_count": 0,
      "outputs": []
    },
    {
      "cell_type": "markdown",
      "metadata": {
        "id": "GX5Ln77FB1K2",
        "colab_type": "text"
      },
      "source": [
        "### SVD [(Singular Value Decomposition)](https://en.wikipedia.org/wiki/Singular_value_decomposition)\n",
        "\n",
        "SVD is a mathematical process(basically matrix operations) to factorize a matrix into a lower dimension of our choice.\n",
        "\n",
        "Here, I have specified `n_components=3` below as the lower dimension, as we want to compress our `4` variable tensor into `3` variable tensor.\n",
        "\n",
        "More details and tutorials on `svd` can be found on Rachel Thomas's(__Fastai's__) __Computational Linear Algebra Course__. [Notebook](https://nbviewer.jupyter.org/github/fastai/numerical-linear-algebra/blob/master/nbs/2.%20Topic%20Modeling%20with%20NMF%20and%20SVD.ipynb#Singular-Value-Decomposition-(SVD)) and the [lecture](https://www.youtube.com/watch?v=kgd40iDT8yY&list=PLtmWHNX-gukIc92m1K0P6bIOnZb-mg0hY&index=2) can be found in the respective links.\n",
        "\n",
        "(Note: adding singular values in the data improved the performance of the model by decreasing the validation loss. [From `0.0161` to `0.0072`])"
      ]
    },
    {
      "cell_type": "code",
      "metadata": {
        "id": "WcyQ94KlMD4L",
        "colab_type": "code",
        "colab": {}
      },
      "source": [
        "svd = TruncatedSVD(n_components=3)\n",
        "\n",
        "def add_singular_values(df1):\n",
        "\n",
        "    df = df1.copy() # make a copy of the data\n",
        "    sing_vals = []\n",
        "\n",
        "    # compute and append the singular values into list sing_vals for each data entry\n",
        "    for i in range(len(df)):\n",
        "        a = np.diag(df.iloc[i])\n",
        "        svd.fit(a)\n",
        "        sing_vals.append(svd.singular_values_)\n",
        "\n",
        "    # add the singular values into DataFrame\n",
        "    for i in range(3):\n",
        "        df.insert(len(df.columns), f'sv_{i}', np.array(sing_vals)[:,i])\n",
        "\n",
        "    return df\n"
      ],
      "execution_count": 0,
      "outputs": []
    },
    {
      "cell_type": "code",
      "metadata": {
        "id": "GxCYBhFmQvtf",
        "colab_type": "code",
        "colab": {}
      },
      "source": [
        "train_df = add_singular_values(train_x)\n",
        "test_df = add_singular_values(test_x)"
      ],
      "execution_count": 0,
      "outputs": []
    },
    {
      "cell_type": "markdown",
      "metadata": {
        "id": "nzjKl5Bjy5yh",
        "colab_type": "text"
      },
      "source": [
        "`sv_0`, `sv_1` and `sv_2` columns in the below DataFrame are singular values of the data of the respective columns.\n",
        "\n"
      ]
    },
    {
      "cell_type": "code",
      "metadata": {
        "id": "co0q7A2XWaOd",
        "colab_type": "code",
        "outputId": "a04152ed-61a4-4f26-a8bf-9e26eff4531a",
        "colab": {
          "base_uri": "https://localhost:8080/",
          "height": 204
        }
      },
      "source": [
        "train_df.head(5)"
      ],
      "execution_count": 0,
      "outputs": [
        {
          "output_type": "execute_result",
          "data": {
            "text/html": [
              "<div>\n",
              "<style scoped>\n",
              "    .dataframe tbody tr th:only-of-type {\n",
              "        vertical-align: middle;\n",
              "    }\n",
              "\n",
              "    .dataframe tbody tr th {\n",
              "        vertical-align: top;\n",
              "    }\n",
              "\n",
              "    .dataframe thead th {\n",
              "        text-align: right;\n",
              "    }\n",
              "</style>\n",
              "<table border=\"1\" class=\"dataframe\">\n",
              "  <thead>\n",
              "    <tr style=\"text-align: right;\">\n",
              "      <th></th>\n",
              "      <th>m</th>\n",
              "      <th>pt</th>\n",
              "      <th>phi</th>\n",
              "      <th>eta</th>\n",
              "      <th>sv_0</th>\n",
              "      <th>sv_1</th>\n",
              "      <th>sv_2</th>\n",
              "    </tr>\n",
              "  </thead>\n",
              "  <tbody>\n",
              "    <tr>\n",
              "      <th>132784</th>\n",
              "      <td>-0.688496</td>\n",
              "      <td>-0.607629</td>\n",
              "      <td>0.868107</td>\n",
              "      <td>0.759040</td>\n",
              "      <td>0.868107</td>\n",
              "      <td>0.759040</td>\n",
              "      <td>0.688496</td>\n",
              "    </tr>\n",
              "    <tr>\n",
              "      <th>99666</th>\n",
              "      <td>-0.587358</td>\n",
              "      <td>-0.612672</td>\n",
              "      <td>-1.487534</td>\n",
              "      <td>0.117474</td>\n",
              "      <td>1.487534</td>\n",
              "      <td>0.612672</td>\n",
              "      <td>0.587358</td>\n",
              "    </tr>\n",
              "    <tr>\n",
              "      <th>26629</th>\n",
              "      <td>1.051897</td>\n",
              "      <td>1.503479</td>\n",
              "      <td>-1.081401</td>\n",
              "      <td>0.773105</td>\n",
              "      <td>1.503479</td>\n",
              "      <td>1.081401</td>\n",
              "      <td>1.051897</td>\n",
              "    </tr>\n",
              "    <tr>\n",
              "      <th>80473</th>\n",
              "      <td>0.788036</td>\n",
              "      <td>1.697702</td>\n",
              "      <td>-0.911068</td>\n",
              "      <td>1.813972</td>\n",
              "      <td>1.813972</td>\n",
              "      <td>1.697702</td>\n",
              "      <td>0.911068</td>\n",
              "    </tr>\n",
              "    <tr>\n",
              "      <th>48229</th>\n",
              "      <td>-0.578692</td>\n",
              "      <td>-0.628716</td>\n",
              "      <td>1.619709</td>\n",
              "      <td>-0.830115</td>\n",
              "      <td>1.619709</td>\n",
              "      <td>0.830115</td>\n",
              "      <td>0.628716</td>\n",
              "    </tr>\n",
              "  </tbody>\n",
              "</table>\n",
              "</div>"
            ],
            "text/plain": [
              "               m        pt       phi       eta      sv_0      sv_1      sv_2\n",
              "132784 -0.688496 -0.607629  0.868107  0.759040  0.868107  0.759040  0.688496\n",
              "99666  -0.587358 -0.612672 -1.487534  0.117474  1.487534  0.612672  0.587358\n",
              "26629   1.051897  1.503479 -1.081401  0.773105  1.503479  1.081401  1.051897\n",
              "80473   0.788036  1.697702 -0.911068  1.813972  1.813972  1.697702  0.911068\n",
              "48229  -0.578692 -0.628716  1.619709 -0.830115  1.619709  0.830115  0.628716"
            ]
          },
          "metadata": {
            "tags": []
          },
          "execution_count": 7
        }
      ]
    },
    {
      "cell_type": "code",
      "metadata": {
        "id": "hiiigFcMX6Lx",
        "colab_type": "code",
        "outputId": "a493561f-3aea-4654-9f2b-675619cd041e",
        "colab": {
          "base_uri": "https://localhost:8080/",
          "height": 204
        }
      },
      "source": [
        "train_y.head(5) # here are the corrsponding targets for the above data"
      ],
      "execution_count": 0,
      "outputs": [
        {
          "output_type": "execute_result",
          "data": {
            "text/html": [
              "<div>\n",
              "<style scoped>\n",
              "    .dataframe tbody tr th:only-of-type {\n",
              "        vertical-align: middle;\n",
              "    }\n",
              "\n",
              "    .dataframe tbody tr th {\n",
              "        vertical-align: top;\n",
              "    }\n",
              "\n",
              "    .dataframe thead th {\n",
              "        text-align: right;\n",
              "    }\n",
              "</style>\n",
              "<table border=\"1\" class=\"dataframe\">\n",
              "  <thead>\n",
              "    <tr style=\"text-align: right;\">\n",
              "      <th></th>\n",
              "      <th>m</th>\n",
              "      <th>pt</th>\n",
              "      <th>phi</th>\n",
              "      <th>eta</th>\n",
              "    </tr>\n",
              "  </thead>\n",
              "  <tbody>\n",
              "    <tr>\n",
              "      <th>132784</th>\n",
              "      <td>-0.688496</td>\n",
              "      <td>-0.607629</td>\n",
              "      <td>0.868107</td>\n",
              "      <td>0.759040</td>\n",
              "    </tr>\n",
              "    <tr>\n",
              "      <th>99666</th>\n",
              "      <td>-0.587358</td>\n",
              "      <td>-0.612672</td>\n",
              "      <td>-1.487534</td>\n",
              "      <td>0.117474</td>\n",
              "    </tr>\n",
              "    <tr>\n",
              "      <th>26629</th>\n",
              "      <td>1.051897</td>\n",
              "      <td>1.503479</td>\n",
              "      <td>-1.081401</td>\n",
              "      <td>0.773105</td>\n",
              "    </tr>\n",
              "    <tr>\n",
              "      <th>80473</th>\n",
              "      <td>0.788036</td>\n",
              "      <td>1.697702</td>\n",
              "      <td>-0.911068</td>\n",
              "      <td>1.813972</td>\n",
              "    </tr>\n",
              "    <tr>\n",
              "      <th>48229</th>\n",
              "      <td>-0.578692</td>\n",
              "      <td>-0.628716</td>\n",
              "      <td>1.619709</td>\n",
              "      <td>-0.830115</td>\n",
              "    </tr>\n",
              "  </tbody>\n",
              "</table>\n",
              "</div>"
            ],
            "text/plain": [
              "               m        pt       phi       eta\n",
              "132784 -0.688496 -0.607629  0.868107  0.759040\n",
              "99666  -0.587358 -0.612672 -1.487534  0.117474\n",
              "26629   1.051897  1.503479 -1.081401  0.773105\n",
              "80473   0.788036  1.697702 -0.911068  1.813972\n",
              "48229  -0.578692 -0.628716  1.619709 -0.830115"
            ]
          },
          "metadata": {
            "tags": []
          },
          "execution_count": 8
        }
      ]
    },
    {
      "cell_type": "markdown",
      "metadata": {
        "id": "c0zC9ABOJ4Tw",
        "colab_type": "text"
      },
      "source": [
        "#Databunch prepration"
      ]
    },
    {
      "cell_type": "code",
      "metadata": {
        "id": "vuYK2mWxMCA5",
        "colab_type": "code",
        "colab": {}
      },
      "source": [
        "train_ds = TensorDataset(torch.tensor(train_df.values).float(), torch.tensor(train_y.values).float())\n",
        "valid_ds = TensorDataset(torch.tensor(test_df.values).float(), torch.tensor(test_y.values).float())"
      ],
      "execution_count": 0,
      "outputs": []
    },
    {
      "cell_type": "code",
      "metadata": {
        "id": "-odCGz4iUBaH",
        "colab_type": "code",
        "colab": {}
      },
      "source": [
        "bs = 1024 # batch size\n",
        "\n",
        "train_dl = DataLoader(train_ds, batch_size=bs, shuffle=True)\n",
        "valid_dl = DataLoader(valid_ds, batch_size=bs * 2)"
      ],
      "execution_count": 0,
      "outputs": []
    },
    {
      "cell_type": "code",
      "metadata": {
        "id": "gXXcED-jUCig",
        "colab_type": "code",
        "colab": {}
      },
      "source": [
        "databunch = basic_data.DataBunch(train_dl, valid_dl)"
      ],
      "execution_count": 0,
      "outputs": []
    },
    {
      "cell_type": "markdown",
      "metadata": {
        "id": "ltylHgNeKBN4",
        "colab_type": "text"
      },
      "source": [
        "#Model definition\n",
        "\n",
        "Here I have used a lot of `nn.Linear`, `nn.BatchNorm1d` and `nn.Tanh` layers. Basically `nn.Tanh` is there to add a nonlinearity.\n",
        "\n",
        "### Why `non-linearity`?\n",
        "Because without non-linearity the model would become a bunch of linear functions(layers here) and a combination of more than 1 linear function is again a linear function. There are other non-linear functions like `nn.ReLU` as well but `nn.Tanh` turned out to work better in this case when I tested.\n",
        "\n",
        "### Why `BatchNorm`?\n",
        "As we normalize our input data to make the learning process faster, Batchnorm does the same thing for the hidden layers. It normalizes the activations to make learning faster and easier.\n",
        "\n",
        "More details about `BatchNorm` and `non-linearities` can be found on Jeremy Howard's (__Fastai's__) __Practical Deep Learning for Coders 2019 course__. _Find the respective lecture_ [here](https://course.fast.ai/videos/?lesson=6)."
      ]
    },
    {
      "cell_type": "code",
      "metadata": {
        "id": "q8GTAZAzUF4G",
        "colab_type": "code",
        "colab": {}
      },
      "source": [
        "class Lin_batchnorms_tanh(nn.Module):\n",
        "    def __init__(self, in_features=7):\n",
        "        super().__init__()\n",
        "        self.encoder = nn.Sequential(\n",
        "            nn.Linear(in_features, 200),\n",
        "            nn.BatchNorm1d(200),\n",
        "            nn.Tanh(),\n",
        "            nn.Linear(200, 500),\n",
        "            nn.BatchNorm1d(500),\n",
        "            nn.Tanh(),\n",
        "            nn.Linear(500, 500),\n",
        "            nn.BatchNorm1d(500),\n",
        "            nn.Tanh(),\n",
        "            nn.Linear(500, 200),\n",
        "            nn.BatchNorm1d(200),\n",
        "            nn.Tanh(),\n",
        "            nn.Linear(200, 100),\n",
        "            nn.BatchNorm1d(100),\n",
        "            nn.Tanh(),\n",
        "            nn.Linear(100, 50),\n",
        "            nn.BatchNorm1d(50),\n",
        "            nn.Tanh(),\n",
        "            nn.Linear(50, 3)\n",
        "        )\n",
        "\n",
        "        self.decoder = nn.Sequential(\n",
        "            nn.Linear(3, 50),\n",
        "            nn.BatchNorm1d(50),\n",
        "            nn.Tanh(),\n",
        "            nn.Linear(50, 100),\n",
        "            nn.BatchNorm1d(100),\n",
        "            nn.Tanh(),\n",
        "            nn.Linear(100, 200),\n",
        "            nn.BatchNorm1d(200),\n",
        "            nn.Tanh(),\n",
        "            nn.Linear(200, 500),\n",
        "            nn.BatchNorm1d(500),\n",
        "            nn.Tanh(),\n",
        "            nn.Linear(500, 500),\n",
        "            nn.BatchNorm1d(500),\n",
        "            nn.Tanh(),\n",
        "            nn.Linear(500, 200),\n",
        "            nn.BatchNorm1d(200),\n",
        "            nn.Tanh(),\n",
        "            nn.Linear(200, 4)\n",
        "        )\n",
        "\n",
        "    def forward(self, x):\n",
        "        encoded = self.encoder(x)\n",
        "        return self.decoder(encoded)\n"
      ],
      "execution_count": 0,
      "outputs": []
    },
    {
      "cell_type": "markdown",
      "metadata": {
        "id": "x2EUbvcmUttd",
        "colab_type": "text"
      },
      "source": [
        "# Learner defination"
      ]
    },
    {
      "cell_type": "code",
      "metadata": {
        "id": "wxscmSG_WO7W",
        "colab_type": "code",
        "colab": {}
      },
      "source": [
        "Learner = basic_train.Learner\n",
        "learn = Learner(databunch, Lin_batchnorms_tanh(), loss_func=nn.MSELoss(), bn_wd=False, true_wd=True)"
      ],
      "execution_count": 0,
      "outputs": []
    },
    {
      "cell_type": "markdown",
      "metadata": {
        "id": "S-E_W7OPMRGL",
        "colab_type": "text"
      },
      "source": [
        "# Training"
      ]
    },
    {
      "cell_type": "markdown",
      "metadata": {
        "id": "WTs6yTywV3Qq",
        "colab_type": "text"
      },
      "source": [
        "## Find a good learning rate and train"
      ]
    },
    {
      "cell_type": "code",
      "metadata": {
        "id": "0lMGcmkuW-A2",
        "colab_type": "code",
        "outputId": "17f216ce-7dc1-41f7-f086-bb4bff7967bf",
        "colab": {
          "base_uri": "https://localhost:8080/",
          "height": 112
        }
      },
      "source": [
        "Train.lr_find(learn)"
      ],
      "execution_count": 0,
      "outputs": [
        {
          "output_type": "display_data",
          "data": {
            "text/html": [
              "\n",
              "    <div>\n",
              "        <style>\n",
              "            /* Turns off some styling */\n",
              "            progress {\n",
              "                /* gets rid of default border in Firefox and Opera. */\n",
              "                border: none;\n",
              "                /* Needs to be in here for Safari polyfill so background images work as expected. */\n",
              "                background-size: auto;\n",
              "            }\n",
              "            .progress-bar-interrupted, .progress-bar-interrupted::-webkit-progress-bar {\n",
              "                background: #F44336;\n",
              "            }\n",
              "        </style>\n",
              "      <progress value='0' class='' max='1', style='width:300px; height:20px; vertical-align: middle;'></progress>\n",
              "      0.00% [0/1 00:00<00:00]\n",
              "    </div>\n",
              "    \n",
              "<table border=\"1\" class=\"dataframe\">\n",
              "  <thead>\n",
              "    <tr style=\"text-align: left;\">\n",
              "      <th>epoch</th>\n",
              "      <th>train_loss</th>\n",
              "      <th>valid_loss</th>\n",
              "      <th>time</th>\n",
              "    </tr>\n",
              "  </thead>\n",
              "  <tbody>\n",
              "  </tbody>\n",
              "</table><p>\n",
              "\n",
              "    <div>\n",
              "        <style>\n",
              "            /* Turns off some styling */\n",
              "            progress {\n",
              "                /* gets rid of default border in Firefox and Opera. */\n",
              "                border: none;\n",
              "                /* Needs to be in here for Safari polyfill so background images work as expected. */\n",
              "                background-size: auto;\n",
              "            }\n",
              "            .progress-bar-interrupted, .progress-bar-interrupted::-webkit-progress-bar {\n",
              "                background: #F44336;\n",
              "            }\n",
              "        </style>\n",
              "      <progress value='79' class='' max='110', style='width:300px; height:20px; vertical-align: middle;'></progress>\n",
              "      71.82% [79/110 00:01<00:00 0.7999]\n",
              "    </div>\n",
              "    "
            ],
            "text/plain": [
              "<IPython.core.display.HTML object>"
            ]
          },
          "metadata": {
            "tags": []
          }
        },
        {
          "output_type": "stream",
          "text": [
            "LR Finder is complete, type {learner_name}.recorder.plot() to see the graph.\n"
          ],
          "name": "stdout"
        }
      ]
    },
    {
      "cell_type": "code",
      "metadata": {
        "id": "1e8H0gMxXEaO",
        "colab_type": "code",
        "outputId": "3e12f39c-1b7d-457f-ff2e-d544c4484934",
        "colab": {
          "base_uri": "https://localhost:8080/",
          "height": 280
        }
      },
      "source": [
        "learn.recorder.plot()"
      ],
      "execution_count": 0,
      "outputs": [
        {
          "output_type": "display_data",
          "data": {
            "image/png": "[encoded data removed]",
            "text/plain": [
              "<Figure size 432x288 with 1 Axes>"
            ]
          },
          "metadata": {
            "tags": []
          }
        }
      ]
    },
    {
      "cell_type": "markdown",
      "metadata": {
        "id": "5qJ6MokAiPjb",
        "colab_type": "text"
      },
      "source": [
        "### One cycle training approach\n",
        "\n",
        "Here I am using the one cycle training approach.\n",
        "\n",
        "\n",
        "One cycle training policy was a research paper that came in _march, 2015_. __It basically makes the learning rate higher and then again lower as the training process goes on__.\n",
        "\n",
        "_The research paper can be found_ [here](https://arxiv.org/abs/1506.01186)."
      ]
    },
    {
      "cell_type": "code",
      "metadata": {
        "id": "9AtxVf6cXkOR",
        "colab_type": "code",
        "outputId": "b2dd9a34-ebde-489d-e15e-7e56e4da2430",
        "colab": {
          "base_uri": "https://localhost:8080/",
          "height": 1000
        }
      },
      "source": [
        "learn.fit_one_cycle(150, 1e-3, wd=1e-6)"
      ],
      "execution_count": 0,
      "outputs": [
        {
          "output_type": "display_data",
          "data": {
            "text/html": [
              "<table border=\"1\" class=\"dataframe\">\n",
              "  <thead>\n",
              "    <tr style=\"text-align: left;\">\n",
              "      <th>epoch</th>\n",
              "      <th>train_loss</th>\n",
              "      <th>valid_loss</th>\n",
              "      <th>time</th>\n",
              "    </tr>\n",
              "  </thead>\n",
              "  <tbody>\n",
              "    <tr>\n",
              "      <td>0</td>\n",
              "      <td>0.147624</td>\n",
              "      <td>0.111735</td>\n",
              "      <td>00:02</td>\n",
              "    </tr>\n",
              "    <tr>\n",
              "      <td>1</td>\n",
              "      <td>0.079291</td>\n",
              "      <td>0.061709</td>\n",
              "      <td>00:02</td>\n",
              "    </tr>\n",
              "    <tr>\n",
              "      <td>2</td>\n",
              "      <td>0.051089</td>\n",
              "      <td>0.045651</td>\n",
              "      <td>00:02</td>\n",
              "    </tr>\n",
              "    <tr>\n",
              "      <td>3</td>\n",
              "      <td>0.041228</td>\n",
              "      <td>0.036994</td>\n",
              "      <td>00:02</td>\n",
              "    </tr>\n",
              "    <tr>\n",
              "      <td>4</td>\n",
              "      <td>0.035775</td>\n",
              "      <td>0.032840</td>\n",
              "      <td>00:02</td>\n",
              "    </tr>\n",
              "    <tr>\n",
              "      <td>5</td>\n",
              "      <td>0.032261</td>\n",
              "      <td>0.035878</td>\n",
              "      <td>00:02</td>\n",
              "    </tr>\n",
              "    <tr>\n",
              "      <td>6</td>\n",
              "      <td>0.030442</td>\n",
              "      <td>0.034153</td>\n",
              "      <td>00:02</td>\n",
              "    </tr>\n",
              "    <tr>\n",
              "      <td>7</td>\n",
              "      <td>0.029301</td>\n",
              "      <td>0.031923</td>\n",
              "      <td>00:02</td>\n",
              "    </tr>\n",
              "    <tr>\n",
              "      <td>8</td>\n",
              "      <td>0.029208</td>\n",
              "      <td>0.029012</td>\n",
              "      <td>00:02</td>\n",
              "    </tr>\n",
              "    <tr>\n",
              "      <td>9</td>\n",
              "      <td>0.027970</td>\n",
              "      <td>0.026908</td>\n",
              "      <td>00:02</td>\n",
              "    </tr>\n",
              "    <tr>\n",
              "      <td>10</td>\n",
              "      <td>0.026261</td>\n",
              "      <td>0.026631</td>\n",
              "      <td>00:02</td>\n",
              "    </tr>\n",
              "    <tr>\n",
              "      <td>11</td>\n",
              "      <td>0.025477</td>\n",
              "      <td>0.029363</td>\n",
              "      <td>00:02</td>\n",
              "    </tr>\n",
              "    <tr>\n",
              "      <td>12</td>\n",
              "      <td>0.027845</td>\n",
              "      <td>0.028561</td>\n",
              "      <td>00:02</td>\n",
              "    </tr>\n",
              "    <tr>\n",
              "      <td>13</td>\n",
              "      <td>0.025233</td>\n",
              "      <td>0.031789</td>\n",
              "      <td>00:02</td>\n",
              "    </tr>\n",
              "    <tr>\n",
              "      <td>14</td>\n",
              "      <td>0.025188</td>\n",
              "      <td>0.029084</td>\n",
              "      <td>00:02</td>\n",
              "    </tr>\n",
              "    <tr>\n",
              "      <td>15</td>\n",
              "      <td>0.026084</td>\n",
              "      <td>0.037877</td>\n",
              "      <td>00:02</td>\n",
              "    </tr>\n",
              "    <tr>\n",
              "      <td>16</td>\n",
              "      <td>0.024931</td>\n",
              "      <td>0.027525</td>\n",
              "      <td>00:02</td>\n",
              "    </tr>\n",
              "    <tr>\n",
              "      <td>17</td>\n",
              "      <td>0.026206</td>\n",
              "      <td>0.032136</td>\n",
              "      <td>00:02</td>\n",
              "    </tr>\n",
              "    <tr>\n",
              "      <td>18</td>\n",
              "      <td>0.024615</td>\n",
              "      <td>0.038625</td>\n",
              "      <td>00:02</td>\n",
              "    </tr>\n",
              "    <tr>\n",
              "      <td>19</td>\n",
              "      <td>0.025040</td>\n",
              "      <td>0.031588</td>\n",
              "      <td>00:02</td>\n",
              "    </tr>\n",
              "    <tr>\n",
              "      <td>20</td>\n",
              "      <td>0.024875</td>\n",
              "      <td>0.024997</td>\n",
              "      <td>00:02</td>\n",
              "    </tr>\n",
              "    <tr>\n",
              "      <td>21</td>\n",
              "      <td>0.024723</td>\n",
              "      <td>0.033261</td>\n",
              "      <td>00:02</td>\n",
              "    </tr>\n",
              "    <tr>\n",
              "      <td>22</td>\n",
              "      <td>0.024801</td>\n",
              "      <td>0.027797</td>\n",
              "      <td>00:02</td>\n",
              "    </tr>\n",
              "    <tr>\n",
              "      <td>23</td>\n",
              "      <td>0.024585</td>\n",
              "      <td>0.024375</td>\n",
              "      <td>00:02</td>\n",
              "    </tr>\n",
              "    <tr>\n",
              "      <td>24</td>\n",
              "      <td>0.024303</td>\n",
              "      <td>0.030454</td>\n",
              "      <td>00:02</td>\n",
              "    </tr>\n",
              "    <tr>\n",
              "      <td>25</td>\n",
              "      <td>0.024004</td>\n",
              "      <td>0.028318</td>\n",
              "      <td>00:02</td>\n",
              "    </tr>\n",
              "    <tr>\n",
              "      <td>26</td>\n",
              "      <td>0.024007</td>\n",
              "      <td>0.027480</td>\n",
              "      <td>00:02</td>\n",
              "    </tr>\n",
              "    <tr>\n",
              "      <td>27</td>\n",
              "      <td>0.025529</td>\n",
              "      <td>0.037649</td>\n",
              "      <td>00:02</td>\n",
              "    </tr>\n",
              "    <tr>\n",
              "      <td>28</td>\n",
              "      <td>0.024215</td>\n",
              "      <td>0.027357</td>\n",
              "      <td>00:02</td>\n",
              "    </tr>\n",
              "    <tr>\n",
              "      <td>29</td>\n",
              "      <td>0.023641</td>\n",
              "      <td>0.031149</td>\n",
              "      <td>00:02</td>\n",
              "    </tr>\n",
              "    <tr>\n",
              "      <td>30</td>\n",
              "      <td>0.024311</td>\n",
              "      <td>0.035581</td>\n",
              "      <td>00:02</td>\n",
              "    </tr>\n",
              "    <tr>\n",
              "      <td>31</td>\n",
              "      <td>0.022952</td>\n",
              "      <td>0.042587</td>\n",
              "      <td>00:02</td>\n",
              "    </tr>\n",
              "    <tr>\n",
              "      <td>32</td>\n",
              "      <td>0.023520</td>\n",
              "      <td>0.036665</td>\n",
              "      <td>00:02</td>\n",
              "    </tr>\n",
              "    <tr>\n",
              "      <td>33</td>\n",
              "      <td>0.022393</td>\n",
              "      <td>0.030241</td>\n",
              "      <td>00:02</td>\n",
              "    </tr>\n",
              "    <tr>\n",
              "      <td>34</td>\n",
              "      <td>0.022248</td>\n",
              "      <td>0.037019</td>\n",
              "      <td>00:02</td>\n",
              "    </tr>\n",
              "    <tr>\n",
              "      <td>35</td>\n",
              "      <td>0.022691</td>\n",
              "      <td>0.030373</td>\n",
              "      <td>00:02</td>\n",
              "    </tr>\n",
              "    <tr>\n",
              "      <td>36</td>\n",
              "      <td>0.023733</td>\n",
              "      <td>0.024852</td>\n",
              "      <td>00:02</td>\n",
              "    </tr>\n",
              "    <tr>\n",
              "      <td>37</td>\n",
              "      <td>0.022665</td>\n",
              "      <td>0.044527</td>\n",
              "      <td>00:02</td>\n",
              "    </tr>\n",
              "    <tr>\n",
              "      <td>38</td>\n",
              "      <td>0.021735</td>\n",
              "      <td>0.047873</td>\n",
              "      <td>00:02</td>\n",
              "    </tr>\n",
              "    <tr>\n",
              "      <td>39</td>\n",
              "      <td>0.022980</td>\n",
              "      <td>0.028870</td>\n",
              "      <td>00:02</td>\n",
              "    </tr>\n",
              "    <tr>\n",
              "      <td>40</td>\n",
              "      <td>0.022171</td>\n",
              "      <td>0.039997</td>\n",
              "      <td>00:02</td>\n",
              "    </tr>\n",
              "    <tr>\n",
              "      <td>41</td>\n",
              "      <td>0.021176</td>\n",
              "      <td>0.047137</td>\n",
              "      <td>00:02</td>\n",
              "    </tr>\n",
              "    <tr>\n",
              "      <td>42</td>\n",
              "      <td>0.022805</td>\n",
              "      <td>0.037754</td>\n",
              "      <td>00:02</td>\n",
              "    </tr>\n",
              "    <tr>\n",
              "      <td>43</td>\n",
              "      <td>0.021954</td>\n",
              "      <td>0.026530</td>\n",
              "      <td>00:02</td>\n",
              "    </tr>\n",
              "    <tr>\n",
              "      <td>44</td>\n",
              "      <td>0.020214</td>\n",
              "      <td>0.036592</td>\n",
              "      <td>00:02</td>\n",
              "    </tr>\n",
              "    <tr>\n",
              "      <td>45</td>\n",
              "      <td>0.020810</td>\n",
              "      <td>0.029668</td>\n",
              "      <td>00:02</td>\n",
              "    </tr>\n",
              "    <tr>\n",
              "      <td>46</td>\n",
              "      <td>0.020007</td>\n",
              "      <td>0.027981</td>\n",
              "      <td>00:02</td>\n",
              "    </tr>\n",
              "    <tr>\n",
              "      <td>47</td>\n",
              "      <td>0.019912</td>\n",
              "      <td>0.036024</td>\n",
              "      <td>00:02</td>\n",
              "    </tr>\n",
              "    <tr>\n",
              "      <td>48</td>\n",
              "      <td>0.020109</td>\n",
              "      <td>0.029922</td>\n",
              "      <td>00:02</td>\n",
              "    </tr>\n",
              "    <tr>\n",
              "      <td>49</td>\n",
              "      <td>0.018293</td>\n",
              "      <td>0.025582</td>\n",
              "      <td>00:02</td>\n",
              "    </tr>\n",
              "    <tr>\n",
              "      <td>50</td>\n",
              "      <td>0.018070</td>\n",
              "      <td>0.021234</td>\n",
              "      <td>00:02</td>\n",
              "    </tr>\n",
              "    <tr>\n",
              "      <td>51</td>\n",
              "      <td>0.019640</td>\n",
              "      <td>0.021278</td>\n",
              "      <td>00:02</td>\n",
              "    </tr>\n",
              "    <tr>\n",
              "      <td>52</td>\n",
              "      <td>0.018749</td>\n",
              "      <td>0.023188</td>\n",
              "      <td>00:02</td>\n",
              "    </tr>\n",
              "    <tr>\n",
              "      <td>53</td>\n",
              "      <td>0.017597</td>\n",
              "      <td>0.021216</td>\n",
              "      <td>00:02</td>\n",
              "    </tr>\n",
              "    <tr>\n",
              "      <td>54</td>\n",
              "      <td>0.018507</td>\n",
              "      <td>0.025756</td>\n",
              "      <td>00:02</td>\n",
              "    </tr>\n",
              "    <tr>\n",
              "      <td>55</td>\n",
              "      <td>0.017729</td>\n",
              "      <td>0.020817</td>\n",
              "      <td>00:02</td>\n",
              "    </tr>\n",
              "    <tr>\n",
              "      <td>56</td>\n",
              "      <td>0.017424</td>\n",
              "      <td>0.024684</td>\n",
              "      <td>00:02</td>\n",
              "    </tr>\n",
              "    <tr>\n",
              "      <td>57</td>\n",
              "      <td>0.016185</td>\n",
              "      <td>0.017599</td>\n",
              "      <td>00:02</td>\n",
              "    </tr>\n",
              "    <tr>\n",
              "      <td>58</td>\n",
              "      <td>0.018705</td>\n",
              "      <td>0.032272</td>\n",
              "      <td>00:02</td>\n",
              "    </tr>\n",
              "    <tr>\n",
              "      <td>59</td>\n",
              "      <td>0.017185</td>\n",
              "      <td>0.024733</td>\n",
              "      <td>00:02</td>\n",
              "    </tr>\n",
              "    <tr>\n",
              "      <td>60</td>\n",
              "      <td>0.016070</td>\n",
              "      <td>0.026342</td>\n",
              "      <td>00:02</td>\n",
              "    </tr>\n",
              "    <tr>\n",
              "      <td>61</td>\n",
              "      <td>0.017345</td>\n",
              "      <td>0.031564</td>\n",
              "      <td>00:02</td>\n",
              "    </tr>\n",
              "    <tr>\n",
              "      <td>62</td>\n",
              "      <td>0.017324</td>\n",
              "      <td>0.023385</td>\n",
              "      <td>00:02</td>\n",
              "    </tr>\n",
              "    <tr>\n",
              "      <td>63</td>\n",
              "      <td>0.016371</td>\n",
              "      <td>0.021648</td>\n",
              "      <td>00:02</td>\n",
              "    </tr>\n",
              "    <tr>\n",
              "      <td>64</td>\n",
              "      <td>0.015092</td>\n",
              "      <td>0.012970</td>\n",
              "      <td>00:02</td>\n",
              "    </tr>\n",
              "    <tr>\n",
              "      <td>65</td>\n",
              "      <td>0.015303</td>\n",
              "      <td>0.014332</td>\n",
              "      <td>00:02</td>\n",
              "    </tr>\n",
              "    <tr>\n",
              "      <td>66</td>\n",
              "      <td>0.015420</td>\n",
              "      <td>0.014693</td>\n",
              "      <td>00:02</td>\n",
              "    </tr>\n",
              "    <tr>\n",
              "      <td>67</td>\n",
              "      <td>0.014985</td>\n",
              "      <td>0.019823</td>\n",
              "      <td>00:02</td>\n",
              "    </tr>\n",
              "    <tr>\n",
              "      <td>68</td>\n",
              "      <td>0.016271</td>\n",
              "      <td>0.020797</td>\n",
              "      <td>00:02</td>\n",
              "    </tr>\n",
              "    <tr>\n",
              "      <td>69</td>\n",
              "      <td>0.015388</td>\n",
              "      <td>0.016710</td>\n",
              "      <td>00:02</td>\n",
              "    </tr>\n",
              "    <tr>\n",
              "      <td>70</td>\n",
              "      <td>0.014638</td>\n",
              "      <td>0.015295</td>\n",
              "      <td>00:02</td>\n",
              "    </tr>\n",
              "    <tr>\n",
              "      <td>71</td>\n",
              "      <td>0.014498</td>\n",
              "      <td>0.018463</td>\n",
              "      <td>00:02</td>\n",
              "    </tr>\n",
              "    <tr>\n",
              "      <td>72</td>\n",
              "      <td>0.013962</td>\n",
              "      <td>0.019503</td>\n",
              "      <td>00:02</td>\n",
              "    </tr>\n",
              "    <tr>\n",
              "      <td>73</td>\n",
              "      <td>0.014950</td>\n",
              "      <td>0.018067</td>\n",
              "      <td>00:02</td>\n",
              "    </tr>\n",
              "    <tr>\n",
              "      <td>74</td>\n",
              "      <td>0.014146</td>\n",
              "      <td>0.017384</td>\n",
              "      <td>00:02</td>\n",
              "    </tr>\n",
              "    <tr>\n",
              "      <td>75</td>\n",
              "      <td>0.014709</td>\n",
              "      <td>0.020856</td>\n",
              "      <td>00:02</td>\n",
              "    </tr>\n",
              "    <tr>\n",
              "      <td>76</td>\n",
              "      <td>0.014145</td>\n",
              "      <td>0.017411</td>\n",
              "      <td>00:02</td>\n",
              "    </tr>\n",
              "    <tr>\n",
              "      <td>77</td>\n",
              "      <td>0.014191</td>\n",
              "      <td>0.021395</td>\n",
              "      <td>00:02</td>\n",
              "    </tr>\n",
              "    <tr>\n",
              "      <td>78</td>\n",
              "      <td>0.014735</td>\n",
              "      <td>0.019273</td>\n",
              "      <td>00:02</td>\n",
              "    </tr>\n",
              "    <tr>\n",
              "      <td>79</td>\n",
              "      <td>0.013913</td>\n",
              "      <td>0.016243</td>\n",
              "      <td>00:02</td>\n",
              "    </tr>\n",
              "    <tr>\n",
              "      <td>80</td>\n",
              "      <td>0.013776</td>\n",
              "      <td>0.013930</td>\n",
              "      <td>00:02</td>\n",
              "    </tr>\n",
              "    <tr>\n",
              "      <td>81</td>\n",
              "      <td>0.013901</td>\n",
              "      <td>0.016908</td>\n",
              "      <td>00:02</td>\n",
              "    </tr>\n",
              "    <tr>\n",
              "      <td>82</td>\n",
              "      <td>0.014641</td>\n",
              "      <td>0.014048</td>\n",
              "      <td>00:02</td>\n",
              "    </tr>\n",
              "    <tr>\n",
              "      <td>83</td>\n",
              "      <td>0.015162</td>\n",
              "      <td>0.014249</td>\n",
              "      <td>00:02</td>\n",
              "    </tr>\n",
              "    <tr>\n",
              "      <td>84</td>\n",
              "      <td>0.013723</td>\n",
              "      <td>0.017779</td>\n",
              "      <td>00:02</td>\n",
              "    </tr>\n",
              "    <tr>\n",
              "      <td>85</td>\n",
              "      <td>0.013264</td>\n",
              "      <td>0.015318</td>\n",
              "      <td>00:02</td>\n",
              "    </tr>\n",
              "    <tr>\n",
              "      <td>86</td>\n",
              "      <td>0.013079</td>\n",
              "      <td>0.017124</td>\n",
              "      <td>00:02</td>\n",
              "    </tr>\n",
              "    <tr>\n",
              "      <td>87</td>\n",
              "      <td>0.012598</td>\n",
              "      <td>0.016646</td>\n",
              "      <td>00:02</td>\n",
              "    </tr>\n",
              "    <tr>\n",
              "      <td>88</td>\n",
              "      <td>0.012633</td>\n",
              "      <td>0.012402</td>\n",
              "      <td>00:02</td>\n",
              "    </tr>\n",
              "    <tr>\n",
              "      <td>89</td>\n",
              "      <td>0.013343</td>\n",
              "      <td>0.017208</td>\n",
              "      <td>00:02</td>\n",
              "    </tr>\n",
              "    <tr>\n",
              "      <td>90</td>\n",
              "      <td>0.012330</td>\n",
              "      <td>0.013013</td>\n",
              "      <td>00:02</td>\n",
              "    </tr>\n",
              "    <tr>\n",
              "      <td>91</td>\n",
              "      <td>0.011894</td>\n",
              "      <td>0.010330</td>\n",
              "      <td>00:02</td>\n",
              "    </tr>\n",
              "    <tr>\n",
              "      <td>92</td>\n",
              "      <td>0.011687</td>\n",
              "      <td>0.012828</td>\n",
              "      <td>00:02</td>\n",
              "    </tr>\n",
              "    <tr>\n",
              "      <td>93</td>\n",
              "      <td>0.012747</td>\n",
              "      <td>0.012751</td>\n",
              "      <td>00:02</td>\n",
              "    </tr>\n",
              "    <tr>\n",
              "      <td>94</td>\n",
              "      <td>0.012667</td>\n",
              "      <td>0.013086</td>\n",
              "      <td>00:02</td>\n",
              "    </tr>\n",
              "    <tr>\n",
              "      <td>95</td>\n",
              "      <td>0.012126</td>\n",
              "      <td>0.013407</td>\n",
              "      <td>00:02</td>\n",
              "    </tr>\n",
              "    <tr>\n",
              "      <td>96</td>\n",
              "      <td>0.011592</td>\n",
              "      <td>0.011286</td>\n",
              "      <td>00:02</td>\n",
              "    </tr>\n",
              "    <tr>\n",
              "      <td>97</td>\n",
              "      <td>0.011347</td>\n",
              "      <td>0.015258</td>\n",
              "      <td>00:02</td>\n",
              "    </tr>\n",
              "    <tr>\n",
              "      <td>98</td>\n",
              "      <td>0.010936</td>\n",
              "      <td>0.011027</td>\n",
              "      <td>00:02</td>\n",
              "    </tr>\n",
              "    <tr>\n",
              "      <td>99</td>\n",
              "      <td>0.011923</td>\n",
              "      <td>0.013593</td>\n",
              "      <td>00:02</td>\n",
              "    </tr>\n",
              "    <tr>\n",
              "      <td>100</td>\n",
              "      <td>0.011906</td>\n",
              "      <td>0.012880</td>\n",
              "      <td>00:02</td>\n",
              "    </tr>\n",
              "    <tr>\n",
              "      <td>101</td>\n",
              "      <td>0.011557</td>\n",
              "      <td>0.013020</td>\n",
              "      <td>00:02</td>\n",
              "    </tr>\n",
              "    <tr>\n",
              "      <td>102</td>\n",
              "      <td>0.011859</td>\n",
              "      <td>0.012552</td>\n",
              "      <td>00:02</td>\n",
              "    </tr>\n",
              "    <tr>\n",
              "      <td>103</td>\n",
              "      <td>0.011285</td>\n",
              "      <td>0.011431</td>\n",
              "      <td>00:02</td>\n",
              "    </tr>\n",
              "    <tr>\n",
              "      <td>104</td>\n",
              "      <td>0.010801</td>\n",
              "      <td>0.011438</td>\n",
              "      <td>00:02</td>\n",
              "    </tr>\n",
              "    <tr>\n",
              "      <td>105</td>\n",
              "      <td>0.011187</td>\n",
              "      <td>0.009798</td>\n",
              "      <td>00:02</td>\n",
              "    </tr>\n",
              "    <tr>\n",
              "      <td>106</td>\n",
              "      <td>0.011657</td>\n",
              "      <td>0.012373</td>\n",
              "      <td>00:02</td>\n",
              "    </tr>\n",
              "    <tr>\n",
              "      <td>107</td>\n",
              "      <td>0.010277</td>\n",
              "      <td>0.009655</td>\n",
              "      <td>00:02</td>\n",
              "    </tr>\n",
              "    <tr>\n",
              "      <td>108</td>\n",
              "      <td>0.010557</td>\n",
              "      <td>0.010791</td>\n",
              "      <td>00:02</td>\n",
              "    </tr>\n",
              "    <tr>\n",
              "      <td>109</td>\n",
              "      <td>0.009998</td>\n",
              "      <td>0.009292</td>\n",
              "      <td>00:02</td>\n",
              "    </tr>\n",
              "    <tr>\n",
              "      <td>110</td>\n",
              "      <td>0.010081</td>\n",
              "      <td>0.010620</td>\n",
              "      <td>00:02</td>\n",
              "    </tr>\n",
              "    <tr>\n",
              "      <td>111</td>\n",
              "      <td>0.010095</td>\n",
              "      <td>0.008991</td>\n",
              "      <td>00:02</td>\n",
              "    </tr>\n",
              "    <tr>\n",
              "      <td>112</td>\n",
              "      <td>0.009883</td>\n",
              "      <td>0.008992</td>\n",
              "      <td>00:02</td>\n",
              "    </tr>\n",
              "    <tr>\n",
              "      <td>113</td>\n",
              "      <td>0.010087</td>\n",
              "      <td>0.009634</td>\n",
              "      <td>00:02</td>\n",
              "    </tr>\n",
              "    <tr>\n",
              "      <td>114</td>\n",
              "      <td>0.009665</td>\n",
              "      <td>0.010316</td>\n",
              "      <td>00:02</td>\n",
              "    </tr>\n",
              "    <tr>\n",
              "      <td>115</td>\n",
              "      <td>0.009260</td>\n",
              "      <td>0.009319</td>\n",
              "      <td>00:02</td>\n",
              "    </tr>\n",
              "    <tr>\n",
              "      <td>116</td>\n",
              "      <td>0.009310</td>\n",
              "      <td>0.008539</td>\n",
              "      <td>00:02</td>\n",
              "    </tr>\n",
              "    <tr>\n",
              "      <td>117</td>\n",
              "      <td>0.009129</td>\n",
              "      <td>0.008917</td>\n",
              "      <td>00:02</td>\n",
              "    </tr>\n",
              "    <tr>\n",
              "      <td>118</td>\n",
              "      <td>0.008950</td>\n",
              "      <td>0.009328</td>\n",
              "      <td>00:02</td>\n",
              "    </tr>\n",
              "    <tr>\n",
              "      <td>119</td>\n",
              "      <td>0.009354</td>\n",
              "      <td>0.009032</td>\n",
              "      <td>00:02</td>\n",
              "    </tr>\n",
              "    <tr>\n",
              "      <td>120</td>\n",
              "      <td>0.009304</td>\n",
              "      <td>0.008696</td>\n",
              "      <td>00:02</td>\n",
              "    </tr>\n",
              "    <tr>\n",
              "      <td>121</td>\n",
              "      <td>0.009609</td>\n",
              "      <td>0.008663</td>\n",
              "      <td>00:02</td>\n",
              "    </tr>\n",
              "    <tr>\n",
              "      <td>122</td>\n",
              "      <td>0.009134</td>\n",
              "      <td>0.008899</td>\n",
              "      <td>00:02</td>\n",
              "    </tr>\n",
              "    <tr>\n",
              "      <td>123</td>\n",
              "      <td>0.009077</td>\n",
              "      <td>0.008070</td>\n",
              "      <td>00:02</td>\n",
              "    </tr>\n",
              "    <tr>\n",
              "      <td>124</td>\n",
              "      <td>0.008668</td>\n",
              "      <td>0.007569</td>\n",
              "      <td>00:02</td>\n",
              "    </tr>\n",
              "    <tr>\n",
              "      <td>125</td>\n",
              "      <td>0.008776</td>\n",
              "      <td>0.008031</td>\n",
              "      <td>00:02</td>\n",
              "    </tr>\n",
              "    <tr>\n",
              "      <td>126</td>\n",
              "      <td>0.008509</td>\n",
              "      <td>0.007911</td>\n",
              "      <td>00:02</td>\n",
              "    </tr>\n",
              "    <tr>\n",
              "      <td>127</td>\n",
              "      <td>0.008792</td>\n",
              "      <td>0.008037</td>\n",
              "      <td>00:02</td>\n",
              "    </tr>\n",
              "    <tr>\n",
              "      <td>128</td>\n",
              "      <td>0.008642</td>\n",
              "      <td>0.007915</td>\n",
              "      <td>00:02</td>\n",
              "    </tr>\n",
              "    <tr>\n",
              "      <td>129</td>\n",
              "      <td>0.008654</td>\n",
              "      <td>0.007812</td>\n",
              "      <td>00:02</td>\n",
              "    </tr>\n",
              "    <tr>\n",
              "      <td>130</td>\n",
              "      <td>0.008305</td>\n",
              "      <td>0.007625</td>\n",
              "      <td>00:02</td>\n",
              "    </tr>\n",
              "    <tr>\n",
              "      <td>131</td>\n",
              "      <td>0.008184</td>\n",
              "      <td>0.007431</td>\n",
              "      <td>00:02</td>\n",
              "    </tr>\n",
              "    <tr>\n",
              "      <td>132</td>\n",
              "      <td>0.008043</td>\n",
              "      <td>0.007527</td>\n",
              "      <td>00:02</td>\n",
              "    </tr>\n",
              "    <tr>\n",
              "      <td>133</td>\n",
              "      <td>0.008265</td>\n",
              "      <td>0.007361</td>\n",
              "      <td>00:02</td>\n",
              "    </tr>\n",
              "    <tr>\n",
              "      <td>134</td>\n",
              "      <td>0.008056</td>\n",
              "      <td>0.007195</td>\n",
              "      <td>00:02</td>\n",
              "    </tr>\n",
              "    <tr>\n",
              "      <td>135</td>\n",
              "      <td>0.008097</td>\n",
              "      <td>0.007418</td>\n",
              "      <td>00:02</td>\n",
              "    </tr>\n",
              "    <tr>\n",
              "      <td>136</td>\n",
              "      <td>0.008147</td>\n",
              "      <td>0.007403</td>\n",
              "      <td>00:02</td>\n",
              "    </tr>\n",
              "    <tr>\n",
              "      <td>137</td>\n",
              "      <td>0.008054</td>\n",
              "      <td>0.007445</td>\n",
              "      <td>00:02</td>\n",
              "    </tr>\n",
              "    <tr>\n",
              "      <td>138</td>\n",
              "      <td>0.008007</td>\n",
              "      <td>0.007321</td>\n",
              "      <td>00:02</td>\n",
              "    </tr>\n",
              "    <tr>\n",
              "      <td>139</td>\n",
              "      <td>0.008245</td>\n",
              "      <td>0.007338</td>\n",
              "      <td>00:02</td>\n",
              "    </tr>\n",
              "    <tr>\n",
              "      <td>140</td>\n",
              "      <td>0.008098</td>\n",
              "      <td>0.007307</td>\n",
              "      <td>00:02</td>\n",
              "    </tr>\n",
              "    <tr>\n",
              "      <td>141</td>\n",
              "      <td>0.007891</td>\n",
              "      <td>0.007396</td>\n",
              "      <td>00:02</td>\n",
              "    </tr>\n",
              "    <tr>\n",
              "      <td>142</td>\n",
              "      <td>0.008000</td>\n",
              "      <td>0.007449</td>\n",
              "      <td>00:02</td>\n",
              "    </tr>\n",
              "    <tr>\n",
              "      <td>143</td>\n",
              "      <td>0.007943</td>\n",
              "      <td>0.007385</td>\n",
              "      <td>00:02</td>\n",
              "    </tr>\n",
              "    <tr>\n",
              "      <td>144</td>\n",
              "      <td>0.007842</td>\n",
              "      <td>0.007333</td>\n",
              "      <td>00:02</td>\n",
              "    </tr>\n",
              "    <tr>\n",
              "      <td>145</td>\n",
              "      <td>0.008079</td>\n",
              "      <td>0.007369</td>\n",
              "      <td>00:02</td>\n",
              "    </tr>\n",
              "    <tr>\n",
              "      <td>146</td>\n",
              "      <td>0.007828</td>\n",
              "      <td>0.007333</td>\n",
              "      <td>00:02</td>\n",
              "    </tr>\n",
              "    <tr>\n",
              "      <td>147</td>\n",
              "      <td>0.007889</td>\n",
              "      <td>0.007388</td>\n",
              "      <td>00:02</td>\n",
              "    </tr>\n",
              "    <tr>\n",
              "      <td>148</td>\n",
              "      <td>0.008002</td>\n",
              "      <td>0.007326</td>\n",
              "      <td>00:02</td>\n",
              "    </tr>\n",
              "    <tr>\n",
              "      <td>149</td>\n",
              "      <td>0.007951</td>\n",
              "      <td>0.007450</td>\n",
              "      <td>00:02</td>\n",
              "    </tr>\n",
              "  </tbody>\n",
              "</table>"
            ],
            "text/plain": [
              "<IPython.core.display.HTML object>"
            ]
          },
          "metadata": {
            "tags": []
          }
        }
      ]
    },
    {
      "cell_type": "code",
      "metadata": {
        "id": "EJYPXoU5mOwF",
        "colab_type": "code",
        "outputId": "0ae0325a-1780-44ee-f0ef-c84ab31d6230",
        "colab": {
          "base_uri": "https://localhost:8080/",
          "height": 282
        }
      },
      "source": [
        "# plot epochs VS validation loss\n",
        "plt.plot(learn.recorder.val_losses)"
      ],
      "execution_count": 0,
      "outputs": [
        {
          "output_type": "execute_result",
          "data": {
            "text/plain": [
              "[<matplotlib.lines.Line2D at 0x7fa58022b0b8>]"
            ]
          },
          "metadata": {
            "tags": []
          },
          "execution_count": 21
        },
        {
          "output_type": "display_data",
          "data": {
            "image/png": "[encoded data removed]",
            "text/plain": [
              "<Figure size 432x288 with 1 Axes>"
            ]
          },
          "metadata": {
            "tags": []
          }
        }
      ]
    },
    {
      "cell_type": "code",
      "metadata": {
        "id": "l5xPHtHfTpRI",
        "colab_type": "code",
        "colab": {}
      },
      "source": [
        "learn.save(\"AE-16\")"
      ],
      "execution_count": 0,
      "outputs": []
    },
    {
      "cell_type": "code",
      "metadata": {
        "id": "O31hdzWtTwX6",
        "colab_type": "code",
        "colab": {}
      },
      "source": [
        "!cp '/content/models/AE-16.pth' '/content/drive/My Drive/AE-models/' # take a copy on the drive"
      ],
      "execution_count": 0,
      "outputs": []
    },
    {
      "cell_type": "code",
      "metadata": {
        "id": "48Of2Ju8X8Ge",
        "colab_type": "code",
        "outputId": "809f6c7d-27e7-4052-9aa4-b0a21324b393",
        "colab": {
          "base_uri": "https://localhost:8080/",
          "height": 112
        }
      },
      "source": [
        "learn.lr_find()"
      ],
      "execution_count": 0,
      "outputs": [
        {
          "output_type": "display_data",
          "data": {
            "text/html": [
              "\n",
              "    <div>\n",
              "        <style>\n",
              "            /* Turns off some styling */\n",
              "            progress {\n",
              "                /* gets rid of default border in Firefox and Opera. */\n",
              "                border: none;\n",
              "                /* Needs to be in here for Safari polyfill so background images work as expected. */\n",
              "                background-size: auto;\n",
              "            }\n",
              "            .progress-bar-interrupted, .progress-bar-interrupted::-webkit-progress-bar {\n",
              "                background: #F44336;\n",
              "            }\n",
              "        </style>\n",
              "      <progress value='0' class='' max='1', style='width:300px; height:20px; vertical-align: middle;'></progress>\n",
              "      0.00% [0/1 00:00<00:00]\n",
              "    </div>\n",
              "    \n",
              "<table border=\"1\" class=\"dataframe\">\n",
              "  <thead>\n",
              "    <tr style=\"text-align: left;\">\n",
              "      <th>epoch</th>\n",
              "      <th>train_loss</th>\n",
              "      <th>valid_loss</th>\n",
              "      <th>time</th>\n",
              "    </tr>\n",
              "  </thead>\n",
              "  <tbody>\n",
              "  </tbody>\n",
              "</table><p>\n",
              "\n",
              "    <div>\n",
              "        <style>\n",
              "            /* Turns off some styling */\n",
              "            progress {\n",
              "                /* gets rid of default border in Firefox and Opera. */\n",
              "                border: none;\n",
              "                /* Needs to be in here for Safari polyfill so background images work as expected. */\n",
              "                background-size: auto;\n",
              "            }\n",
              "            .progress-bar-interrupted, .progress-bar-interrupted::-webkit-progress-bar {\n",
              "                background: #F44336;\n",
              "            }\n",
              "        </style>\n",
              "      <progress value='56' class='' max='110', style='width:300px; height:20px; vertical-align: middle;'></progress>\n",
              "      50.91% [56/110 00:01<00:01 0.0086]\n",
              "    </div>\n",
              "    "
            ],
            "text/plain": [
              "<IPython.core.display.HTML object>"
            ]
          },
          "metadata": {
            "tags": []
          }
        },
        {
          "output_type": "stream",
          "text": [
            "LR Finder is complete, type {learner_name}.recorder.plot() to see the graph.\n"
          ],
          "name": "stdout"
        }
      ]
    },
    {
      "cell_type": "code",
      "metadata": {
        "id": "oAlQ-2nMYW1q",
        "colab_type": "code",
        "outputId": "12d9df4a-cac2-46e3-e995-e70810bfc7c0",
        "colab": {
          "base_uri": "https://localhost:8080/",
          "height": 279
        }
      },
      "source": [
        "learn.recorder.plot()"
      ],
      "execution_count": 0,
      "outputs": [
        {
          "output_type": "display_data",
          "data": {
            "image/png": "[encoded data removed]",
            "text/plain": [
              "<Figure size 432x288 with 1 Axes>"
            ]
          },
          "metadata": {
            "tags": []
          }
        }
      ]
    },
    {
      "cell_type": "code",
      "metadata": {
        "id": "Id1H6BOpnzuF",
        "colab_type": "code",
        "outputId": "6b62a13e-9be0-4ef9-ffdd-9004e1854d8a",
        "colab": {
          "base_uri": "https://localhost:8080/",
          "height": 979
        }
      },
      "source": [
        "learn.fit_one_cycle(30, 1e-6)"
      ],
      "execution_count": 0,
      "outputs": [
        {
          "output_type": "display_data",
          "data": {
            "text/html": [
              "<table border=\"1\" class=\"dataframe\">\n",
              "  <thead>\n",
              "    <tr style=\"text-align: left;\">\n",
              "      <th>epoch</th>\n",
              "      <th>train_loss</th>\n",
              "      <th>valid_loss</th>\n",
              "      <th>time</th>\n",
              "    </tr>\n",
              "  </thead>\n",
              "  <tbody>\n",
              "    <tr>\n",
              "      <td>0</td>\n",
              "      <td>0.007970</td>\n",
              "      <td>0.007463</td>\n",
              "      <td>00:02</td>\n",
              "    </tr>\n",
              "    <tr>\n",
              "      <td>1</td>\n",
              "      <td>0.007861</td>\n",
              "      <td>0.007214</td>\n",
              "      <td>00:02</td>\n",
              "    </tr>\n",
              "    <tr>\n",
              "      <td>2</td>\n",
              "      <td>0.007762</td>\n",
              "      <td>0.007301</td>\n",
              "      <td>00:02</td>\n",
              "    </tr>\n",
              "    <tr>\n",
              "      <td>3</td>\n",
              "      <td>0.007816</td>\n",
              "      <td>0.007387</td>\n",
              "      <td>00:02</td>\n",
              "    </tr>\n",
              "    <tr>\n",
              "      <td>4</td>\n",
              "      <td>0.007859</td>\n",
              "      <td>0.007276</td>\n",
              "      <td>00:02</td>\n",
              "    </tr>\n",
              "    <tr>\n",
              "      <td>5</td>\n",
              "      <td>0.007944</td>\n",
              "      <td>0.007438</td>\n",
              "      <td>00:02</td>\n",
              "    </tr>\n",
              "    <tr>\n",
              "      <td>6</td>\n",
              "      <td>0.007900</td>\n",
              "      <td>0.007290</td>\n",
              "      <td>00:02</td>\n",
              "    </tr>\n",
              "    <tr>\n",
              "      <td>7</td>\n",
              "      <td>0.007892</td>\n",
              "      <td>0.007321</td>\n",
              "      <td>00:02</td>\n",
              "    </tr>\n",
              "    <tr>\n",
              "      <td>8</td>\n",
              "      <td>0.007980</td>\n",
              "      <td>0.007266</td>\n",
              "      <td>00:02</td>\n",
              "    </tr>\n",
              "    <tr>\n",
              "      <td>9</td>\n",
              "      <td>0.008009</td>\n",
              "      <td>0.007321</td>\n",
              "      <td>00:02</td>\n",
              "    </tr>\n",
              "    <tr>\n",
              "      <td>10</td>\n",
              "      <td>0.007845</td>\n",
              "      <td>0.007253</td>\n",
              "      <td>00:02</td>\n",
              "    </tr>\n",
              "    <tr>\n",
              "      <td>11</td>\n",
              "      <td>0.007917</td>\n",
              "      <td>0.007357</td>\n",
              "      <td>00:02</td>\n",
              "    </tr>\n",
              "    <tr>\n",
              "      <td>12</td>\n",
              "      <td>0.007814</td>\n",
              "      <td>0.007420</td>\n",
              "      <td>00:02</td>\n",
              "    </tr>\n",
              "    <tr>\n",
              "      <td>13</td>\n",
              "      <td>0.007768</td>\n",
              "      <td>0.007262</td>\n",
              "      <td>00:02</td>\n",
              "    </tr>\n",
              "    <tr>\n",
              "      <td>14</td>\n",
              "      <td>0.007898</td>\n",
              "      <td>0.007272</td>\n",
              "      <td>00:02</td>\n",
              "    </tr>\n",
              "    <tr>\n",
              "      <td>15</td>\n",
              "      <td>0.007719</td>\n",
              "      <td>0.007201</td>\n",
              "      <td>00:02</td>\n",
              "    </tr>\n",
              "    <tr>\n",
              "      <td>16</td>\n",
              "      <td>0.007861</td>\n",
              "      <td>0.007369</td>\n",
              "      <td>00:02</td>\n",
              "    </tr>\n",
              "    <tr>\n",
              "      <td>17</td>\n",
              "      <td>0.007826</td>\n",
              "      <td>0.007506</td>\n",
              "      <td>00:02</td>\n",
              "    </tr>\n",
              "    <tr>\n",
              "      <td>18</td>\n",
              "      <td>0.007888</td>\n",
              "      <td>0.007365</td>\n",
              "      <td>00:02</td>\n",
              "    </tr>\n",
              "    <tr>\n",
              "      <td>19</td>\n",
              "      <td>0.007895</td>\n",
              "      <td>0.007436</td>\n",
              "      <td>00:02</td>\n",
              "    </tr>\n",
              "    <tr>\n",
              "      <td>20</td>\n",
              "      <td>0.007984</td>\n",
              "      <td>0.007330</td>\n",
              "      <td>00:02</td>\n",
              "    </tr>\n",
              "    <tr>\n",
              "      <td>21</td>\n",
              "      <td>0.007791</td>\n",
              "      <td>0.007266</td>\n",
              "      <td>00:02</td>\n",
              "    </tr>\n",
              "    <tr>\n",
              "      <td>22</td>\n",
              "      <td>0.007999</td>\n",
              "      <td>0.007264</td>\n",
              "      <td>00:02</td>\n",
              "    </tr>\n",
              "    <tr>\n",
              "      <td>23</td>\n",
              "      <td>0.007732</td>\n",
              "      <td>0.007247</td>\n",
              "      <td>00:02</td>\n",
              "    </tr>\n",
              "    <tr>\n",
              "      <td>24</td>\n",
              "      <td>0.007992</td>\n",
              "      <td>0.007265</td>\n",
              "      <td>00:03</td>\n",
              "    </tr>\n",
              "    <tr>\n",
              "      <td>25</td>\n",
              "      <td>0.007852</td>\n",
              "      <td>0.007194</td>\n",
              "      <td>00:02</td>\n",
              "    </tr>\n",
              "    <tr>\n",
              "      <td>26</td>\n",
              "      <td>0.007963</td>\n",
              "      <td>0.007280</td>\n",
              "      <td>00:02</td>\n",
              "    </tr>\n",
              "    <tr>\n",
              "      <td>27</td>\n",
              "      <td>0.007846</td>\n",
              "      <td>0.007287</td>\n",
              "      <td>00:02</td>\n",
              "    </tr>\n",
              "    <tr>\n",
              "      <td>28</td>\n",
              "      <td>0.007738</td>\n",
              "      <td>0.007270</td>\n",
              "      <td>00:02</td>\n",
              "    </tr>\n",
              "    <tr>\n",
              "      <td>29</td>\n",
              "      <td>0.007803</td>\n",
              "      <td>0.007290</td>\n",
              "      <td>00:02</td>\n",
              "    </tr>\n",
              "  </tbody>\n",
              "</table>"
            ],
            "text/plain": [
              "<IPython.core.display.HTML object>"
            ]
          },
          "metadata": {
            "tags": []
          }
        }
      ]
    },
    {
      "cell_type": "code",
      "metadata": {
        "id": "AdpMFdnNGkHx",
        "colab_type": "code",
        "outputId": "7b1c767e-6606-4bca-98ce-472e4386043c",
        "colab": {
          "base_uri": "https://localhost:8080/",
          "height": 282
        }
      },
      "source": [
        "# plot epochs VS validation loss\n",
        "plt.plot(learn.recorder.val_losses)"
      ],
      "execution_count": 0,
      "outputs": [
        {
          "output_type": "execute_result",
          "data": {
            "text/plain": [
              "[<matplotlib.lines.Line2D at 0x7fa58014fb70>]"
            ]
          },
          "metadata": {
            "tags": []
          },
          "execution_count": 28
        },
        {
          "output_type": "display_data",
          "data": {
            "image/png": "[encoded data removed]",
            "text/plain": [
              "<Figure size 432x288 with 1 Axes>"
            ]
          },
          "metadata": {
            "tags": []
          }
        }
      ]
    },
    {
      "cell_type": "code",
      "metadata": {
        "id": "qVCURp88eg_d",
        "colab_type": "code",
        "outputId": "962ea672-efbd-4c33-a92b-e149d54ef944",
        "colab": {
          "base_uri": "https://localhost:8080/",
          "height": 112
        }
      },
      "source": [
        "learn.lr_find()"
      ],
      "execution_count": 0,
      "outputs": [
        {
          "output_type": "display_data",
          "data": {
            "text/html": [
              "\n",
              "    <div>\n",
              "        <style>\n",
              "            /* Turns off some styling */\n",
              "            progress {\n",
              "                /* gets rid of default border in Firefox and Opera. */\n",
              "                border: none;\n",
              "                /* Needs to be in here for Safari polyfill so background images work as expected. */\n",
              "                background-size: auto;\n",
              "            }\n",
              "            .progress-bar-interrupted, .progress-bar-interrupted::-webkit-progress-bar {\n",
              "                background: #F44336;\n",
              "            }\n",
              "        </style>\n",
              "      <progress value='0' class='' max='1', style='width:300px; height:20px; vertical-align: middle;'></progress>\n",
              "      0.00% [0/1 00:00<00:00]\n",
              "    </div>\n",
              "    \n",
              "<table border=\"1\" class=\"dataframe\">\n",
              "  <thead>\n",
              "    <tr style=\"text-align: left;\">\n",
              "      <th>epoch</th>\n",
              "      <th>train_loss</th>\n",
              "      <th>valid_loss</th>\n",
              "      <th>time</th>\n",
              "    </tr>\n",
              "  </thead>\n",
              "  <tbody>\n",
              "  </tbody>\n",
              "</table><p>\n",
              "\n",
              "    <div>\n",
              "        <style>\n",
              "            /* Turns off some styling */\n",
              "            progress {\n",
              "                /* gets rid of default border in Firefox and Opera. */\n",
              "                border: none;\n",
              "                /* Needs to be in here for Safari polyfill so background images work as expected. */\n",
              "                background-size: auto;\n",
              "            }\n",
              "            .progress-bar-interrupted, .progress-bar-interrupted::-webkit-progress-bar {\n",
              "                background: #F44336;\n",
              "            }\n",
              "        </style>\n",
              "      <progress value='59' class='' max='110', style='width:300px; height:20px; vertical-align: middle;'></progress>\n",
              "      53.64% [59/110 00:01<00:01 0.0117]\n",
              "    </div>\n",
              "    "
            ],
            "text/plain": [
              "<IPython.core.display.HTML object>"
            ]
          },
          "metadata": {
            "tags": []
          }
        },
        {
          "output_type": "stream",
          "text": [
            "LR Finder is complete, type {learner_name}.recorder.plot() to see the graph.\n"
          ],
          "name": "stdout"
        }
      ]
    },
    {
      "cell_type": "code",
      "metadata": {
        "id": "WGcEFpkHekrw",
        "colab_type": "code",
        "outputId": "646c3adb-d274-4b13-cfd3-22a0d4c9d27b",
        "colab": {
          "base_uri": "https://localhost:8080/",
          "height": 279
        }
      },
      "source": [
        "learn.recorder.plot()"
      ],
      "execution_count": 0,
      "outputs": [
        {
          "output_type": "display_data",
          "data": {
            "image/png": "[encoded data removed]",
            "text/plain": [
              "<Figure size 432x288 with 1 Axes>"
            ]
          },
          "metadata": {
            "tags": []
          }
        }
      ]
    },
    {
      "cell_type": "code",
      "metadata": {
        "id": "0cf7k9IpvAce",
        "colab_type": "code",
        "colab": {}
      },
      "source": [
        "learn.save(\"AE-17\")\n",
        "!cp '/content/models/AE-17.pth' '/content/drive/My Drive/AE-models/' # take a copy on the drive"
      ],
      "execution_count": 0,
      "outputs": []
    },
    {
      "cell_type": "markdown",
      "metadata": {
        "id": "xAj6tyAdWKWU",
        "colab_type": "text"
      },
      "source": [
        "# Results"
      ]
    },
    {
      "cell_type": "markdown",
      "metadata": {
        "id": "HZpyMwqW3og4",
        "colab_type": "text"
      },
      "source": [
        "### Predicitons on the test"
      ]
    },
    {
      "cell_type": "code",
      "metadata": {
        "id": "4eF1YC1T37n8",
        "colab_type": "code",
        "outputId": "cec0ec77-20ec-4543-c882-bd82e17fdea4",
        "colab": {
          "base_uri": "https://localhost:8080/",
          "height": 17
        }
      },
      "source": [
        "expected, result, losses = learn.get_preds(ds_type=DatasetType.Valid, with_loss=True)"
      ],
      "execution_count": 0,
      "outputs": [
        {
          "output_type": "display_data",
          "data": {
            "text/html": [
              ""
            ],
            "text/plain": [
              "<IPython.core.display.HTML object>"
            ]
          },
          "metadata": {
            "tags": []
          }
        }
      ]
    },
    {
      "cell_type": "code",
      "metadata": {
        "id": "8VmgAEWK0zUS",
        "colab_type": "code",
        "outputId": "141c93b7-4aad-49e8-b27d-147984da8631",
        "colab": {
          "base_uri": "https://localhost:8080/",
          "height": 374
        }
      },
      "source": [
        "expected, result, losses"
      ],
      "execution_count": 0,
      "outputs": [
        {
          "output_type": "execute_result",
          "data": {
            "text/plain": [
              "(tensor([[-0.5304, -0.5813,  1.0814, -0.0761],\n",
              "         [-0.5007, -0.5774,  0.5677,  0.4753],\n",
              "         [-0.4919, -0.5783, -0.6211,  0.5197],\n",
              "         ...,\n",
              "         [-0.5492, -0.5535, -1.1810, -1.6051],\n",
              "         [-0.1798, -0.3730, -1.4670, -0.6049],\n",
              "         [ 0.0056, -0.1443, -1.1055,  0.3698]]),\n",
              " tensor([[-0.5333, -0.5819,  1.0872, -0.0711],\n",
              "         [-0.4724, -0.6093,  0.5733,  0.4770],\n",
              "         [-0.4988, -0.5703, -0.6227,  0.5422],\n",
              "         ...,\n",
              "         [-0.5517, -0.5617, -1.2107, -1.6051],\n",
              "         [-0.1767, -0.3924, -1.4821, -0.6032],\n",
              "         [ 0.0446, -0.1671, -1.1240,  0.3776]]),\n",
              " tensor([[8.1153e-06, 4.1447e-07, 3.3863e-05, 2.4181e-05],\n",
              "         [7.9940e-04, 1.0209e-03, 3.1095e-05, 2.6387e-06],\n",
              "         [4.7908e-05, 6.3211e-05, 2.4385e-06, 5.0677e-04],\n",
              "         ...,\n",
              "         [6.0323e-06, 6.7746e-05, 8.8083e-04, 4.4565e-11],\n",
              "         [9.5306e-06, 3.7571e-04, 2.2894e-04, 2.6850e-06],\n",
              "         [1.5171e-03, 5.1912e-04, 3.4185e-04, 6.0826e-05]]))"
            ]
          },
          "metadata": {
            "tags": []
          },
          "execution_count": 35
        }
      ]
    },
    {
      "cell_type": "code",
      "metadata": {
        "id": "MIHYu1Pj1cT8",
        "colab_type": "code",
        "outputId": "bd75ca7f-9cdf-4d88-d9a7-6b4ae966d469",
        "colab": {
          "base_uri": "https://localhost:8080/",
          "height": 296
        }
      },
      "source": [
        "# plot of the losses with all 4 variables differentiated on validation set (row-number VS loss)\n",
        "plt.plot(losses)\n",
        "plt.yscale('log')\n",
        "plt.xlabel(\"row-number\")\n",
        "plt.ylabel(\"Loss\")"
      ],
      "execution_count": 0,
      "outputs": [
        {
          "output_type": "execute_result",
          "data": {
            "text/plain": [
              "Text(0, 0.5, 'Loss')"
            ]
          },
          "metadata": {
            "tags": []
          },
          "execution_count": 36
        },
        {
          "output_type": "display_data",
          "data": {
            "image/png": "[encoded data removed]",
            "text/plain": [
              "<Figure size 432x288 with 1 Axes>"
            ]
          },
          "metadata": {
            "tags": []
          }
        }
      ]
    },
    {
      "cell_type": "markdown",
      "metadata": {
        "id": "3XOWKEVKC0WR",
        "colab_type": "text"
      },
      "source": [
        "##### Note that below is the row-wise average. So, it computes the average of the losses of `m`, `pt`, `phi` and `eta` for each row.\n",
        "\n",
        "\n"
      ]
    },
    {
      "cell_type": "code",
      "metadata": {
        "id": "u0EVMcHH6md9",
        "colab_type": "code",
        "outputId": "78d00637-1453-49bb-d185-234bb84faf15",
        "colab": {
          "base_uri": "https://localhost:8080/",
          "height": 51
        }
      },
      "source": [
        "avg_loss = torch.sum(losses, (1,1)) / 4; avg_loss"
      ],
      "execution_count": 0,
      "outputs": [
        {
          "output_type": "execute_result",
          "data": {
            "text/plain": [
              "tensor([1.6644e-05, 4.6350e-04, 1.5508e-04,  ..., 2.3865e-04, 1.5422e-04,\n",
              "        6.0971e-04])"
            ]
          },
          "metadata": {
            "tags": []
          },
          "execution_count": 37
        }
      ]
    },
    {
      "cell_type": "code",
      "metadata": {
        "id": "9S5pk3SZ7dKc",
        "colab_type": "code",
        "outputId": "9187ad60-5a12-44b0-856d-95a87c7c8fe1",
        "colab": {
          "base_uri": "https://localhost:8080/",
          "height": 296
        }
      },
      "source": [
        "# plot of the row-wise average losses on validation set (row-number VS average loss)\n",
        "plt.plot(avg_loss)\n",
        "plt.yscale('log')\n",
        "plt.xlabel(\"row-number\")\n",
        "plt.ylabel(\"Loss\")"
      ],
      "execution_count": 0,
      "outputs": [
        {
          "output_type": "execute_result",
          "data": {
            "text/plain": [
              "Text(0, 0.5, 'Loss')"
            ]
          },
          "metadata": {
            "tags": []
          },
          "execution_count": 38
        },
        {
          "output_type": "display_data",
          "data": {
            "image/png": "[encoded data removed]",
            "text/plain": [
              "<Figure size 432x288 with 1 Axes>"
            ]
          },
          "metadata": {
            "tags": []
          }
        }
      ]
    },
    {
      "cell_type": "code",
      "metadata": {
        "id": "dm-RkuOeJA9q",
        "colab_type": "code",
        "outputId": "41a4f331-fe1a-452c-bd93-a72df0dfefdd",
        "colab": {
          "base_uri": "https://localhost:8080/",
          "height": 34
        }
      },
      "source": [
        "# Max, min and Average losses\n",
        "avg_loss.max(), avg_loss.min(), avg_loss.mean()"
      ],
      "execution_count": 0,
      "outputs": [
        {
          "output_type": "execute_result",
          "data": {
            "text/plain": [
              "(tensor(1.6085), tensor(1.9835e-06), tensor(0.0073))"
            ]
          },
          "metadata": {
            "tags": []
          },
          "execution_count": 39
        }
      ]
    },
    {
      "cell_type": "markdown",
      "metadata": {
        "id": "Ax0syCYtjDJj",
        "colab_type": "text"
      },
      "source": [
        "##### Note that the range of Losses in the below graph is upto 10^3 because of deviding by the data having smaller values."
      ]
    },
    {
      "cell_type": "code",
      "metadata": {
        "id": "x7vBEEd2LazX",
        "colab_type": "code",
        "outputId": "83c51243-93c4-4b4f-faf0-2aa95d3a3bed",
        "colab": {
          "base_uri": "https://localhost:8080/",
          "height": 296
        }
      },
      "source": [
        "plt.plot((expected-result) / expected,)\n",
        "plt.yscale('log')\n",
        "plt.xlabel(\"row-number\")\n",
        "plt.ylabel(\"Loss\")"
      ],
      "execution_count": 0,
      "outputs": [
        {
          "output_type": "execute_result",
          "data": {
            "text/plain": [
              "Text(0, 0.5, 'Loss')"
            ]
          },
          "metadata": {
            "tags": []
          },
          "execution_count": 40
        },
        {
          "output_type": "display_data",
          "data": {
            "image/png": "[encoded data removed]",
            "text/plain": [
              "<Figure size 432x288 with 1 Axes>"
            ]
          },
          "metadata": {
            "tags": []
          }
        }
      ]
    },
    {
      "cell_type": "code",
      "metadata": {
        "id": "CHjMR75dfW6F",
        "colab_type": "code",
        "colab": {}
      },
      "source": [
        ""
      ],
      "execution_count": 0,
      "outputs": []
    }
  ]
}