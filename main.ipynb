{
  "nbformat": 4,
  "nbformat_minor": 0,
  "metadata": {
    "colab": {
      "name": "main.ipynb",
      "provenance": [],
      "collapsed_sections": [],
      "toc_visible": true,
      "include_colab_link": true
    },
    "kernelspec": {
      "name": "python3",
      "display_name": "Python 3"
    },
    "accelerator": "GPU"
  },
  "cells": [
    {
      "cell_type": "markdown",
      "metadata": {
        "id": "view-in-github",
        "colab_type": "text"
      },
      "source": [
        "<a href=\"https://colab.research.google.com/github/rushabh-v/Autoencoder-4-to-3-variables/blob/master/main.ipynb\" target=\"_parent\"><img src=\"https://colab.research.google.com/assets/colab-badge.svg\" alt=\"Open In Colab\"/></a>"
      ]
    },
    {
      "cell_type": "code",
      "metadata": {
        "id": "WFTfim0yfwsA",
        "colab_type": "code",
        "colab": {
          "base_uri": "https://localhost:8080/",
          "height": 136
        },
        "outputId": "dfaff10b-7806-4177-ee56-45af1cbf2fb4"
      },
      "source": [
        "!git clone https://github.com/rushabh-v/Autoencoder-4-to-3-variables"
      ],
      "execution_count": 2,
      "outputs": [
        {
          "output_type": "stream",
          "text": [
            "Cloning into 'Autoencoder-4-to-3-variables'...\n",
            "remote: Enumerating objects: 120, done.\u001b[K\n",
            "remote: Counting objects:   0% (1/120)\u001b[K\rremote: Counting objects:   1% (2/120)\u001b[K\rremote: Counting objects:   2% (3/120)\u001b[K\rremote: Counting objects:   3% (4/120)\u001b[K\rremote: Counting objects:   4% (5/120)\u001b[K\rremote: Counting objects:   5% (6/120)\u001b[K\rremote: Counting objects:   6% (8/120)\u001b[K\rremote: Counting objects:   7% (9/120)\u001b[K\rremote: Counting objects:   8% (10/120)\u001b[K\rremote: Counting objects:   9% (11/120)\u001b[K\rremote: Counting objects:  10% (12/120)\u001b[K\rremote: Counting objects:  11% (14/120)\u001b[K\rremote: Counting objects:  12% (15/120)\u001b[K\rremote: Counting objects:  13% (16/120)\u001b[K\rremote: Counting objects:  14% (17/120)\u001b[K\rremote: Counting objects:  15% (18/120)\u001b[K\rremote: Counting objects:  16% (20/120)\u001b[K\rremote: Counting objects:  17% (21/120)\u001b[K\rremote: Counting objects:  18% (22/120)\u001b[K\rremote: Counting objects:  19% (23/120)\u001b[K\rremote: Counting objects:  20% (24/120)\u001b[K\rremote: Counting objects:  21% (26/120)\u001b[K\rremote: Counting objects:  22% (27/120)\u001b[K\rremote: Counting objects:  23% (28/120)\u001b[K\rremote: Counting objects:  24% (29/120)\u001b[K\rremote: Counting objects:  25% (30/120)\u001b[K\rremote: Counting objects:  26% (32/120)\u001b[K\rremote: Counting objects:  27% (33/120)\u001b[K\rremote: Counting objects:  28% (34/120)\u001b[K\rremote: Counting objects:  29% (35/120)\u001b[K\rremote: Counting objects:  30% (36/120)\u001b[K\rremote: Counting objects:  31% (38/120)\u001b[K\rremote: Counting objects:  32% (39/120)\u001b[K\rremote: Counting objects:  33% (40/120)\u001b[K\rremote: Counting objects:  34% (41/120)\u001b[K\rremote: Counting objects:  35% (42/120)\u001b[K\rremote: Counting objects:  36% (44/120)\u001b[K\rremote: Counting objects:  37% (45/120)\u001b[K\rremote: Counting objects:  38% (46/120)\u001b[K\rremote: Counting objects:  39% (47/120)\u001b[K\rremote: Counting objects:  40% (48/120)\u001b[K\rremote: Counting objects:  41% (50/120)\u001b[K\rremote: Counting objects:  42% (51/120)\u001b[K\rremote: Counting objects:  43% (52/120)\u001b[K\rremote: Counting objects:  44% (53/120)\u001b[K\rremote: Counting objects:  45% (54/120)\u001b[K\rremote: Counting objects:  46% (56/120)\u001b[K\rremote: Counting objects:  47% (57/120)\u001b[K\rremote: Counting objects:  48% (58/120)\u001b[K\rremote: Counting objects:  49% (59/120)\u001b[K\rremote: Counting objects:  50% (60/120)\u001b[K\rremote: Counting objects:  51% (62/120)\u001b[K\rremote: Counting objects:  52% (63/120)\u001b[K\rremote: Counting objects:  53% (64/120)\u001b[K\rremote: Counting objects:  54% (65/120)\u001b[K\rremote: Counting objects:  55% (66/120)\u001b[K\rremote: Counting objects:  56% (68/120)\u001b[K\rremote: Counting objects:  57% (69/120)\u001b[K\rremote: Counting objects:  58% (70/120)\u001b[K\rremote: Counting objects:  59% (71/120)\u001b[K\rremote: Counting objects:  60% (72/120)\u001b[K\rremote: Counting objects:  61% (74/120)\u001b[K\rremote: Counting objects:  62% (75/120)\u001b[K\rremote: Counting objects:  63% (76/120)\u001b[K\rremote: Counting objects:  64% (77/120)\u001b[K\rremote: Counting objects:  65% (78/120)\u001b[K\rremote: Counting objects:  66% (80/120)\u001b[K\rremote: Counting objects:  67% (81/120)\u001b[K\rremote: Counting objects:  68% (82/120)\u001b[K\rremote: Counting objects:  69% (83/120)\u001b[K\rremote: Counting objects:  70% (84/120)\u001b[K\rremote: Counting objects:  71% (86/120)\u001b[K\rremote: Counting objects:  72% (87/120)\u001b[K\rremote: Counting objects:  73% (88/120)\u001b[K\rremote: Counting objects:  74% (89/120)\u001b[K\rremote: Counting objects:  75% (90/120)\u001b[K\rremote: Counting objects:  76% (92/120)\u001b[K\rremote: Counting objects:  77% (93/120)\u001b[K\rremote: Counting objects:  78% (94/120)\u001b[K\rremote: Counting objects:  79% (95/120)\u001b[K\rremote: Counting objects:  80% (96/120)\u001b[K\rremote: Counting objects:  81% (98/120)\u001b[K\rremote: Counting objects:  82% (99/120)\u001b[K\rremote: Counting objects:  83% (100/120)\u001b[K\rremote: Counting objects:  84% (101/120)\u001b[K\rremote: Counting objects:  85% (102/120)\u001b[K\rremote: Counting objects:  86% (104/120)\u001b[K\rremote: Counting objects:  87% (105/120)\u001b[K\rremote: Counting objects:  88% (106/120)\u001b[K\rremote: Counting objects:  89% (107/120)\u001b[K\rremote: Counting objects:  90% (108/120)\u001b[K\rremote: Counting objects:  91% (110/120)\u001b[K\rremote: Counting objects:  92% (111/120)\u001b[K\rremote: Counting objects:  93% (112/120)\u001b[K\rremote: Counting objects:  94% (113/120)\u001b[K\rremote: Counting objects:  95% (114/120)\u001b[K\rremote: Counting objects:  96% (116/120)\u001b[K\rremote: Counting objects:  97% (117/120)\u001b[K\rremote: Counting objects:  98% (118/120)\u001b[K\rremote: Counting objects:  99% (119/120)\u001b[K\rremote: Counting objects: 100% (120/120)\u001b[K\rremote: Counting objects: 100% (120/120), done.\u001b[K\n",
            "remote: Compressing objects:   0% (1/113)\u001b[K\rremote: Compressing objects:   1% (2/113)\u001b[K\rremote: Compressing objects:   2% (3/113)\u001b[K\rremote: Compressing objects:   3% (4/113)\u001b[K\rremote: Compressing objects:   4% (5/113)\u001b[K\rremote: Compressing objects:   5% (6/113)\u001b[K\rremote: Compressing objects:   6% (7/113)\u001b[K\rremote: Compressing objects:   7% (8/113)\u001b[K\rremote: Compressing objects:   8% (10/113)\u001b[K\rremote: Compressing objects:   9% (11/113)\u001b[K\rremote: Compressing objects:  10% (12/113)\u001b[K\rremote: Compressing objects:  11% (13/113)\u001b[K\rremote: Compressing objects:  12% (14/113)\u001b[K\rremote: Compressing objects:  13% (15/113)\u001b[K\rremote: Compressing objects:  14% (16/113)\u001b[K\rremote: Compressing objects:  15% (17/113)\u001b[K\rremote: Compressing objects:  16% (19/113)\u001b[K\rremote: Compressing objects:  17% (20/113)\u001b[K\rremote: Compressing objects:  18% (21/113)\u001b[K\rremote: Compressing objects:  19% (22/113)\u001b[K\rremote: Compressing objects:  20% (23/113)\u001b[K\rremote: Compressing objects:  21% (24/113)\u001b[K\rremote: Compressing objects:  22% (25/113)\u001b[K\rremote: Compressing objects:  23% (26/113)\u001b[K\rremote: Compressing objects:  24% (28/113)\u001b[K\rremote: Compressing objects:  25% (29/113)\u001b[K\rremote: Compressing objects:  26% (30/113)\u001b[K\rremote: Compressing objects:  27% (31/113)\u001b[K\rremote: Compressing objects:  28% (32/113)\u001b[K\rremote: Compressing objects:  29% (33/113)\u001b[K\rremote: Compressing objects:  30% (34/113)\u001b[K\rremote: Compressing objects:  31% (36/113)\u001b[K\rremote: Compressing objects:  32% (37/113)\u001b[K\rremote: Compressing objects:  33% (38/113)\u001b[K\rremote: Compressing objects:  34% (39/113)\u001b[K\rremote: Compressing objects:  35% (40/113)\u001b[K\rremote: Compressing objects:  36% (41/113)\u001b[K\rremote: Compressing objects:  37% (42/113)\u001b[K\rremote: Compressing objects:  38% (43/113)\u001b[K\rremote: Compressing objects:  39% (45/113)\u001b[K\rremote: Compressing objects:  40% (46/113)\u001b[K\rremote: Compressing objects:  41% (47/113)\u001b[K\rremote: Compressing objects:  42% (48/113)\u001b[K\rremote: Compressing objects:  43% (49/113)\u001b[K\rremote: Compressing objects:  44% (50/113)\u001b[K\rremote: Compressing objects:  45% (51/113)\u001b[K\rremote: Compressing objects:  46% (52/113)\u001b[K\rremote: Compressing objects:  47% (54/113)\u001b[K\rremote: Compressing objects:  48% (55/113)\u001b[K\rremote: Compressing objects:  49% (56/113)\u001b[K\rremote: Compressing objects:  50% (57/113)\u001b[K\rremote: Compressing objects:  51% (58/113)\u001b[K\rremote: Compressing objects:  52% (59/113)\u001b[K\rremote: Compressing objects:  53% (60/113)\u001b[K\rremote: Compressing objects:  54% (62/113)\u001b[K\rremote: Compressing objects:  55% (63/113)\u001b[K\rremote: Compressing objects:  56% (64/113)\u001b[K\rremote: Compressing objects:  57% (65/113)\u001b[K\rremote: Compressing objects:  58% (66/113)\u001b[K\rremote: Compressing objects:  59% (67/113)\u001b[K\rremote: Compressing objects:  60% (68/113)\u001b[K\rremote: Compressing objects:  61% (69/113)\u001b[K\rremote: Compressing objects:  62% (71/113)\u001b[K\rremote: Compressing objects:  63% (72/113)\u001b[K\rremote: Compressing objects:  64% (73/113)\u001b[K\rremote: Compressing objects:  65% (74/113)\u001b[K\rremote: Compressing objects:  66% (75/113)\u001b[K\rremote: Compressing objects:  67% (76/113)\u001b[K\rremote: Compressing objects:  68% (77/113)\u001b[K\rremote: Compressing objects:  69% (78/113)\u001b[K\rremote: Compressing objects:  70% (80/113)\u001b[K\rremote: Compressing objects:  71% (81/113)\u001b[K\rremote: Compressing objects:  72% (82/113)\u001b[K\rremote: Compressing objects:  73% (83/113)\u001b[K\rremote: Compressing objects:  74% (84/113)\u001b[K\rremote: Compressing objects:  75% (85/113)\u001b[K\rremote: Compressing objects:  76% (86/113)\u001b[K\rremote: Compressing objects:  77% (88/113)\u001b[K\rremote: Compressing objects:  78% (89/113)\u001b[K\rremote: Compressing objects:  79% (90/113)\u001b[K\rremote: Compressing objects:  80% (91/113)\u001b[K\rremote: Compressing objects:  81% (92/113)\u001b[K\rremote: Compressing objects:  82% (93/113)\u001b[K\rremote: Compressing objects:  83% (94/113)\u001b[K\rremote: Compressing objects:  84% (95/113)\u001b[K\rremote: Compressing objects:  85% (97/113)\u001b[K\rremote: Compressing objects:  86% (98/113)\u001b[K\rremote: Compressing objects:  87% (99/113)\u001b[K\rremote: Compressing objects:  88% (100/113)\u001b[K\rremote: Compressing objects:  89% (101/113)\u001b[K\rremote: Compressing objects:  90% (102/113)\u001b[K\rremote: Compressing objects:  91% (103/113)\u001b[K\rremote: Compressing objects:  92% (104/113)\u001b[K\rremote: Compressing objects:  93% (106/113)\u001b[K\rremote: Compressing objects:  94% (107/113)\u001b[K\rremote: Compressing objects:  95% (108/113)\u001b[K\rremote: Compressing objects:  96% (109/113)\u001b[K\rremote: Compressing objects:  97% (110/113)\u001b[K\rremote: Compressing objects:  98% (111/113)\u001b[K\rremote: Compressing objects:  99% (112/113)\u001b[K\rremote: Compressing objects: 100% (113/113)\u001b[K\rremote: Compressing objects: 100% (113/113), done.\u001b[K\n",
            "Receiving objects:   0% (1/120)   \rReceiving objects:   1% (2/120)   \rReceiving objects:   2% (3/120)   \rReceiving objects:   3% (4/120)   \rReceiving objects:   4% (5/120)   \rReceiving objects:   5% (6/120)   \rReceiving objects:   6% (8/120)   \rReceiving objects:   7% (9/120)   \rReceiving objects:   8% (10/120)   \rReceiving objects:   9% (11/120)   \rReceiving objects:  10% (12/120)   \rReceiving objects:  11% (14/120)   \rReceiving objects:  12% (15/120)   \rReceiving objects:  13% (16/120)   \rReceiving objects:  14% (17/120)   \rReceiving objects:  15% (18/120)   \rReceiving objects:  16% (20/120)   \rReceiving objects:  17% (21/120)   \rReceiving objects:  18% (22/120)   \rReceiving objects:  19% (23/120)   \rReceiving objects:  20% (24/120)   \rReceiving objects:  21% (26/120)   \rReceiving objects:  22% (27/120)   \rReceiving objects:  23% (28/120)   \rReceiving objects:  24% (29/120)   \rReceiving objects:  25% (30/120)   \rReceiving objects:  26% (32/120)   \rReceiving objects:  27% (33/120)   \rReceiving objects:  28% (34/120)   \rReceiving objects:  29% (35/120)   \rReceiving objects:  30% (36/120)   \rReceiving objects:  31% (38/120)   \rReceiving objects:  32% (39/120)   \rReceiving objects:  33% (40/120)   \rReceiving objects:  34% (41/120)   \rReceiving objects:  35% (42/120)   \rReceiving objects:  36% (44/120), 556.00 KiB | 895.00 KiB/s   \rReceiving objects:  37% (45/120), 556.00 KiB | 895.00 KiB/s   \rReceiving objects:  38% (46/120), 556.00 KiB | 895.00 KiB/s   \rReceiving objects:  39% (47/120), 556.00 KiB | 895.00 KiB/s   \rReceiving objects:  40% (48/120), 556.00 KiB | 895.00 KiB/s   \rReceiving objects:  41% (50/120), 556.00 KiB | 895.00 KiB/s   \rReceiving objects:  42% (51/120), 556.00 KiB | 895.00 KiB/s   \rReceiving objects:  43% (52/120), 556.00 KiB | 895.00 KiB/s   \rReceiving objects:  44% (53/120), 556.00 KiB | 895.00 KiB/s   \rReceiving objects:  45% (54/120), 556.00 KiB | 895.00 KiB/s   \rReceiving objects:  46% (56/120), 556.00 KiB | 895.00 KiB/s   \rReceiving objects:  47% (57/120), 556.00 KiB | 895.00 KiB/s   \rReceiving objects:  48% (58/120), 556.00 KiB | 895.00 KiB/s   \rReceiving objects:  49% (59/120), 556.00 KiB | 895.00 KiB/s   \rReceiving objects:  50% (60/120), 556.00 KiB | 895.00 KiB/s   \rReceiving objects:  51% (62/120), 556.00 KiB | 895.00 KiB/s   \rReceiving objects:  52% (63/120), 556.00 KiB | 895.00 KiB/s   \rReceiving objects:  53% (64/120), 556.00 KiB | 895.00 KiB/s   \rReceiving objects:  54% (65/120), 556.00 KiB | 895.00 KiB/s   \rReceiving objects:  55% (66/120), 556.00 KiB | 895.00 KiB/s   \rReceiving objects:  56% (68/120), 556.00 KiB | 895.00 KiB/s   \rReceiving objects:  57% (69/120), 556.00 KiB | 895.00 KiB/s   \rReceiving objects:  58% (70/120), 556.00 KiB | 895.00 KiB/s   \rReceiving objects:  59% (71/120), 556.00 KiB | 895.00 KiB/s   \rReceiving objects:  60% (72/120), 556.00 KiB | 895.00 KiB/s   \rReceiving objects:  61% (74/120), 556.00 KiB | 895.00 KiB/s   \rReceiving objects:  62% (75/120), 556.00 KiB | 895.00 KiB/s   \rReceiving objects:  63% (76/120), 556.00 KiB | 895.00 KiB/s   \rReceiving objects:  64% (77/120), 556.00 KiB | 895.00 KiB/s   \rReceiving objects:  65% (78/120), 556.00 KiB | 895.00 KiB/s   \rReceiving objects:  66% (80/120), 556.00 KiB | 895.00 KiB/s   \rReceiving objects:  67% (81/120), 556.00 KiB | 895.00 KiB/s   \rReceiving objects:  68% (82/120), 556.00 KiB | 895.00 KiB/s   \rReceiving objects:  69% (83/120), 556.00 KiB | 895.00 KiB/s   \rReceiving objects:  70% (84/120), 556.00 KiB | 895.00 KiB/s   \rReceiving objects:  71% (86/120), 556.00 KiB | 895.00 KiB/s   \rReceiving objects:  72% (87/120), 556.00 KiB | 895.00 KiB/s   \rReceiving objects:  73% (88/120), 556.00 KiB | 895.00 KiB/s   \rReceiving objects:  74% (89/120), 556.00 KiB | 895.00 KiB/s   \rReceiving objects:  75% (90/120), 556.00 KiB | 895.00 KiB/s   \rremote: Total 120 (delta 41), reused 0 (delta 0), pack-reused 0\u001b[K\n",
            "Receiving objects:  76% (92/120), 556.00 KiB | 895.00 KiB/s   \rReceiving objects:  77% (93/120), 556.00 KiB | 895.00 KiB/s   \rReceiving objects:  78% (94/120), 556.00 KiB | 895.00 KiB/s   \rReceiving objects:  79% (95/120), 556.00 KiB | 895.00 KiB/s   \rReceiving objects:  80% (96/120), 556.00 KiB | 895.00 KiB/s   \rReceiving objects:  81% (98/120), 556.00 KiB | 895.00 KiB/s   \rReceiving objects:  82% (99/120), 556.00 KiB | 895.00 KiB/s   \rReceiving objects:  83% (100/120), 556.00 KiB | 895.00 KiB/s   \rReceiving objects:  84% (101/120), 556.00 KiB | 895.00 KiB/s   \rReceiving objects:  85% (102/120), 556.00 KiB | 895.00 KiB/s   \rReceiving objects:  86% (104/120), 556.00 KiB | 895.00 KiB/s   \rReceiving objects:  87% (105/120), 556.00 KiB | 895.00 KiB/s   \rReceiving objects:  88% (106/120), 556.00 KiB | 895.00 KiB/s   \rReceiving objects:  89% (107/120), 556.00 KiB | 895.00 KiB/s   \rReceiving objects:  90% (108/120), 556.00 KiB | 895.00 KiB/s   \rReceiving objects:  91% (110/120), 556.00 KiB | 895.00 KiB/s   \rReceiving objects:  92% (111/120), 556.00 KiB | 895.00 KiB/s   \rReceiving objects:  93% (112/120), 556.00 KiB | 895.00 KiB/s   \rReceiving objects:  94% (113/120), 556.00 KiB | 895.00 KiB/s   \rReceiving objects:  95% (114/120), 556.00 KiB | 895.00 KiB/s   \rReceiving objects:  96% (116/120), 556.00 KiB | 895.00 KiB/s   \rReceiving objects:  97% (117/120), 556.00 KiB | 895.00 KiB/s   \rReceiving objects:  98% (118/120), 556.00 KiB | 895.00 KiB/s   \rReceiving objects:  99% (119/120), 556.00 KiB | 895.00 KiB/s   \rReceiving objects: 100% (120/120), 556.00 KiB | 895.00 KiB/s   \rReceiving objects: 100% (120/120), 2.95 MiB | 4.05 MiB/s, done.\n",
            "Resolving deltas:   0% (0/41)   \rResolving deltas:   2% (1/41)   \rResolving deltas:  14% (6/41)   \rResolving deltas:  17% (7/41)   \rResolving deltas:  21% (9/41)   \rResolving deltas:  26% (11/41)   \rResolving deltas:  36% (15/41)   \rResolving deltas:  65% (27/41)   \rResolving deltas:  78% (32/41)   \rResolving deltas:  95% (39/41)   \rResolving deltas: 100% (41/41)   \rResolving deltas: 100% (41/41), done.\n"
          ],
          "name": "stdout"
        }
      ]
    },
    {
      "cell_type": "markdown",
      "metadata": {
        "id": "kgm8owaT_tBh",
        "colab_type": "text"
      },
      "source": [
        "# Imports"
      ]
    },
    {
      "cell_type": "code",
      "metadata": {
        "id": "HkT-jaSoTiOm",
        "colab_type": "code",
        "colab": {}
      },
      "source": [
        "import numpy as np\n",
        "\n",
        "import pandas as pd\n",
        "\n",
        "from sklearn.decomposition import TruncatedSVD\n",
        "\n",
        "from fastai import basic_train, basic_data, train as Train\n",
        "from fastai.basic_data import DatasetType\n",
        "\n",
        "import torch\n",
        "import torch.nn as nn\n",
        "from torch.utils.data import TensorDataset\n",
        "from torch.utils.data import DataLoader\n",
        "\n",
        "import matplotlib as mpl\n",
        "import matplotlib.pyplot as plt\n"
      ],
      "execution_count": 0,
      "outputs": []
    },
    {
      "cell_type": "markdown",
      "metadata": {
        "id": "QRxiZlGq_2si",
        "colab_type": "text"
      },
      "source": [
        "# Load the data"
      ]
    },
    {
      "cell_type": "code",
      "metadata": {
        "id": "WYhUACd6VoIt",
        "colab_type": "code",
        "outputId": "7380b573-cf2d-4b0d-f3f1-c9de9a326c48",
        "colab": {
          "base_uri": "https://localhost:8080/",
          "height": 204
        }
      },
      "source": [
        "train = pd.read_pickle('Autoencoder-4-to-3-variables/Dataset/all_jets_train_4D_100_percent.pkl')\n",
        "test = pd.read_pickle('Autoencoder-4-to-3-variables/Dataset/all_jets_test_4D_100_percent.pkl')\n",
        "\n",
        "test.head(5)"
      ],
      "execution_count": 4,
      "outputs": [
        {
          "output_type": "execute_result",
          "data": {
            "text/html": [
              "<div>\n",
              "<style scoped>\n",
              "    .dataframe tbody tr th:only-of-type {\n",
              "        vertical-align: middle;\n",
              "    }\n",
              "\n",
              "    .dataframe tbody tr th {\n",
              "        vertical-align: top;\n",
              "    }\n",
              "\n",
              "    .dataframe thead th {\n",
              "        text-align: right;\n",
              "    }\n",
              "</style>\n",
              "<table border=\"1\" class=\"dataframe\">\n",
              "  <thead>\n",
              "    <tr style=\"text-align: right;\">\n",
              "      <th></th>\n",
              "      <th>m</th>\n",
              "      <th>pt</th>\n",
              "      <th>phi</th>\n",
              "      <th>eta</th>\n",
              "    </tr>\n",
              "  </thead>\n",
              "  <tbody>\n",
              "    <tr>\n",
              "      <th>85972</th>\n",
              "      <td>4983.729980</td>\n",
              "      <td>23798.070312</td>\n",
              "      <td>1.962157</td>\n",
              "      <td>-0.059532</td>\n",
              "    </tr>\n",
              "    <tr>\n",
              "      <th>38742</th>\n",
              "      <td>5435.273438</td>\n",
              "      <td>21881.867188</td>\n",
              "      <td>1.035412</td>\n",
              "      <td>0.734343</td>\n",
              "    </tr>\n",
              "    <tr>\n",
              "      <th>128711</th>\n",
              "      <td>5239.408691</td>\n",
              "      <td>24608.134766</td>\n",
              "      <td>-1.121055</td>\n",
              "      <td>0.828848</td>\n",
              "    </tr>\n",
              "    <tr>\n",
              "      <th>28751</th>\n",
              "      <td>14121.240234</td>\n",
              "      <td>203110.953125</td>\n",
              "      <td>0.324205</td>\n",
              "      <td>-2.571108</td>\n",
              "    </tr>\n",
              "    <tr>\n",
              "      <th>131358</th>\n",
              "      <td>3344.826660</td>\n",
              "      <td>24897.294922</td>\n",
              "      <td>0.395331</td>\n",
              "      <td>1.440069</td>\n",
              "    </tr>\n",
              "  </tbody>\n",
              "</table>\n",
              "</div>"
            ],
            "text/plain": [
              "                   m             pt       phi       eta\n",
              "85972    4983.729980   23798.070312  1.962157 -0.059532\n",
              "38742    5435.273438   21881.867188  1.035412  0.734343\n",
              "128711   5239.408691   24608.134766 -1.121055  0.828848\n",
              "28751   14121.240234  203110.953125  0.324205 -2.571108\n",
              "131358   3344.826660   24897.294922  0.395331  1.440069"
            ]
          },
          "metadata": {
            "tags": []
          },
          "execution_count": 4
        }
      ]
    },
    {
      "cell_type": "markdown",
      "metadata": {
        "id": "8YyoeFMyAKHV",
        "colab_type": "text"
      },
      "source": [
        "# Preprocessing\n",
        "\n",
        "### Normalization\n",
        "Make the inputs having `mean` of `0` and `standard deviation`\n",
        "of `1`. \n",
        "\n",
        "This fixes the outliers in the data and makes the learning process much easier, smoother and faster for the computer.\n",
        "\n",
        "note: All the data(e.g `train` and `test` data) should be normalized with the same mean and standard deviation."
      ]
    },
    {
      "cell_type": "code",
      "metadata": {
        "id": "zhxVlo6ZT21P",
        "colab_type": "code",
        "colab": {}
      },
      "source": [
        "mean = train.mean()\n",
        "std = train.std()\n",
        "\n",
        "train_data = (train - mean) / std\n",
        "test_data = (test - mean) / std\n",
        "\n",
        "train_x = train_data\n",
        "test_x = test_data\n",
        "train_y = train_x\n",
        "test_y = test_x"
      ],
      "execution_count": 0,
      "outputs": []
    },
    {
      "cell_type": "markdown",
      "metadata": {
        "id": "GX5Ln77FB1K2",
        "colab_type": "text"
      },
      "source": [
        "### SVD [(Singular Value Decomposition)](https://en.wikipedia.org/wiki/Singular_value_decomposition)\n",
        "\n",
        "SVD is a mathematical process(basically matrix operations) to factorize a matrix into a lower dimension of our choice.\n",
        "\n",
        "Here, I have specified `n_components=3` below as the lower dimension, as we want to compress our `4` variable tensor into `3` variable tensor.\n",
        "\n",
        "More details and tutorials on `svd` can be found on Rachel Thomas's(__Fastai's__) __Computational Linear Algebra Course__. [Notebook](https://nbviewer.jupyter.org/github/fastai/numerical-linear-algebra/blob/master/nbs/2.%20Topic%20Modeling%20with%20NMF%20and%20SVD.ipynb#Singular-Value-Decomposition-(SVD)) and the [lecture](https://www.youtube.com/watch?v=kgd40iDT8yY&list=PLtmWHNX-gukIc92m1K0P6bIOnZb-mg0hY&index=2) can be found in the respective links.\n",
        "\n",
        "(Note: adding singular values in the data improved the performance of the model by decreasing the validation loss. [From `0.0161` to `0.0072`])"
      ]
    },
    {
      "cell_type": "code",
      "metadata": {
        "id": "WcyQ94KlMD4L",
        "colab_type": "code",
        "colab": {}
      },
      "source": [
        "svd = TruncatedSVD(n_components=3)\n",
        "\n",
        "def add_singular_values(df1):\n",
        "\n",
        "    df = df1.copy() # make a copy of the data\n",
        "    sing_vals = []\n",
        "\n",
        "    # compute and append the singular values into list sing_vals for each data entry\n",
        "    for i in range(len(df)):\n",
        "        a = np.diag(df.iloc[i])\n",
        "        svd.fit(a)\n",
        "        sing_vals.append(svd.singular_values_)\n",
        "\n",
        "    # add the singular values into DataFrame\n",
        "    for i in range(3):\n",
        "        df.insert(len(df.columns), f'sv_{i}', np.array(sing_vals)[:,i])\n",
        "\n",
        "    return df\n"
      ],
      "execution_count": 0,
      "outputs": []
    },
    {
      "cell_type": "code",
      "metadata": {
        "id": "GxCYBhFmQvtf",
        "colab_type": "code",
        "colab": {}
      },
      "source": [
        "train_df = add_singular_values(train_x)\n",
        "test_df = add_singular_values(test_x)"
      ],
      "execution_count": 0,
      "outputs": []
    },
    {
      "cell_type": "markdown",
      "metadata": {
        "id": "nzjKl5Bjy5yh",
        "colab_type": "text"
      },
      "source": [
        "`sv_0`, `sv_1` and `sv_2` columns in the below DataFrame are singular values of the data of the respective columns.\n",
        "\n"
      ]
    },
    {
      "cell_type": "code",
      "metadata": {
        "id": "co0q7A2XWaOd",
        "colab_type": "code",
        "outputId": "79bf844b-43ea-4a96-d8fd-a3cd6dfea070",
        "colab": {
          "base_uri": "https://localhost:8080/",
          "height": 204
        }
      },
      "source": [
        "train_df.head(5)"
      ],
      "execution_count": 8,
      "outputs": [
        {
          "output_type": "execute_result",
          "data": {
            "text/html": [
              "<div>\n",
              "<style scoped>\n",
              "    .dataframe tbody tr th:only-of-type {\n",
              "        vertical-align: middle;\n",
              "    }\n",
              "\n",
              "    .dataframe tbody tr th {\n",
              "        vertical-align: top;\n",
              "    }\n",
              "\n",
              "    .dataframe thead th {\n",
              "        text-align: right;\n",
              "    }\n",
              "</style>\n",
              "<table border=\"1\" class=\"dataframe\">\n",
              "  <thead>\n",
              "    <tr style=\"text-align: right;\">\n",
              "      <th></th>\n",
              "      <th>m</th>\n",
              "      <th>pt</th>\n",
              "      <th>phi</th>\n",
              "      <th>eta</th>\n",
              "      <th>sv_0</th>\n",
              "      <th>sv_1</th>\n",
              "      <th>sv_2</th>\n",
              "    </tr>\n",
              "  </thead>\n",
              "  <tbody>\n",
              "    <tr>\n",
              "      <th>132784</th>\n",
              "      <td>-0.688496</td>\n",
              "      <td>-0.607629</td>\n",
              "      <td>0.868107</td>\n",
              "      <td>0.759040</td>\n",
              "      <td>0.868107</td>\n",
              "      <td>0.759040</td>\n",
              "      <td>0.688496</td>\n",
              "    </tr>\n",
              "    <tr>\n",
              "      <th>99666</th>\n",
              "      <td>-0.587358</td>\n",
              "      <td>-0.612672</td>\n",
              "      <td>-1.487534</td>\n",
              "      <td>0.117474</td>\n",
              "      <td>1.487534</td>\n",
              "      <td>0.612672</td>\n",
              "      <td>0.587358</td>\n",
              "    </tr>\n",
              "    <tr>\n",
              "      <th>26629</th>\n",
              "      <td>1.051897</td>\n",
              "      <td>1.503479</td>\n",
              "      <td>-1.081401</td>\n",
              "      <td>0.773105</td>\n",
              "      <td>1.503479</td>\n",
              "      <td>1.081401</td>\n",
              "      <td>1.051897</td>\n",
              "    </tr>\n",
              "    <tr>\n",
              "      <th>80473</th>\n",
              "      <td>0.788036</td>\n",
              "      <td>1.697702</td>\n",
              "      <td>-0.911068</td>\n",
              "      <td>1.813972</td>\n",
              "      <td>1.813972</td>\n",
              "      <td>1.697702</td>\n",
              "      <td>0.911068</td>\n",
              "    </tr>\n",
              "    <tr>\n",
              "      <th>48229</th>\n",
              "      <td>-0.578692</td>\n",
              "      <td>-0.628716</td>\n",
              "      <td>1.619709</td>\n",
              "      <td>-0.830115</td>\n",
              "      <td>1.619709</td>\n",
              "      <td>0.830115</td>\n",
              "      <td>0.628716</td>\n",
              "    </tr>\n",
              "  </tbody>\n",
              "</table>\n",
              "</div>"
            ],
            "text/plain": [
              "               m        pt       phi       eta      sv_0      sv_1      sv_2\n",
              "132784 -0.688496 -0.607629  0.868107  0.759040  0.868107  0.759040  0.688496\n",
              "99666  -0.587358 -0.612672 -1.487534  0.117474  1.487534  0.612672  0.587358\n",
              "26629   1.051897  1.503479 -1.081401  0.773105  1.503479  1.081401  1.051897\n",
              "80473   0.788036  1.697702 -0.911068  1.813972  1.813972  1.697702  0.911068\n",
              "48229  -0.578692 -0.628716  1.619709 -0.830115  1.619709  0.830115  0.628716"
            ]
          },
          "metadata": {
            "tags": []
          },
          "execution_count": 8
        }
      ]
    },
    {
      "cell_type": "code",
      "metadata": {
        "id": "hiiigFcMX6Lx",
        "colab_type": "code",
        "outputId": "9ce20de3-f757-4f73-aea3-339a50cb43f5",
        "colab": {
          "base_uri": "https://localhost:8080/",
          "height": 204
        }
      },
      "source": [
        "train_y.head(5) # here are the corrsponding targets for the above data"
      ],
      "execution_count": 9,
      "outputs": [
        {
          "output_type": "execute_result",
          "data": {
            "text/html": [
              "<div>\n",
              "<style scoped>\n",
              "    .dataframe tbody tr th:only-of-type {\n",
              "        vertical-align: middle;\n",
              "    }\n",
              "\n",
              "    .dataframe tbody tr th {\n",
              "        vertical-align: top;\n",
              "    }\n",
              "\n",
              "    .dataframe thead th {\n",
              "        text-align: right;\n",
              "    }\n",
              "</style>\n",
              "<table border=\"1\" class=\"dataframe\">\n",
              "  <thead>\n",
              "    <tr style=\"text-align: right;\">\n",
              "      <th></th>\n",
              "      <th>m</th>\n",
              "      <th>pt</th>\n",
              "      <th>phi</th>\n",
              "      <th>eta</th>\n",
              "    </tr>\n",
              "  </thead>\n",
              "  <tbody>\n",
              "    <tr>\n",
              "      <th>132784</th>\n",
              "      <td>-0.688496</td>\n",
              "      <td>-0.607629</td>\n",
              "      <td>0.868107</td>\n",
              "      <td>0.759040</td>\n",
              "    </tr>\n",
              "    <tr>\n",
              "      <th>99666</th>\n",
              "      <td>-0.587358</td>\n",
              "      <td>-0.612672</td>\n",
              "      <td>-1.487534</td>\n",
              "      <td>0.117474</td>\n",
              "    </tr>\n",
              "    <tr>\n",
              "      <th>26629</th>\n",
              "      <td>1.051897</td>\n",
              "      <td>1.503479</td>\n",
              "      <td>-1.081401</td>\n",
              "      <td>0.773105</td>\n",
              "    </tr>\n",
              "    <tr>\n",
              "      <th>80473</th>\n",
              "      <td>0.788036</td>\n",
              "      <td>1.697702</td>\n",
              "      <td>-0.911068</td>\n",
              "      <td>1.813972</td>\n",
              "    </tr>\n",
              "    <tr>\n",
              "      <th>48229</th>\n",
              "      <td>-0.578692</td>\n",
              "      <td>-0.628716</td>\n",
              "      <td>1.619709</td>\n",
              "      <td>-0.830115</td>\n",
              "    </tr>\n",
              "  </tbody>\n",
              "</table>\n",
              "</div>"
            ],
            "text/plain": [
              "               m        pt       phi       eta\n",
              "132784 -0.688496 -0.607629  0.868107  0.759040\n",
              "99666  -0.587358 -0.612672 -1.487534  0.117474\n",
              "26629   1.051897  1.503479 -1.081401  0.773105\n",
              "80473   0.788036  1.697702 -0.911068  1.813972\n",
              "48229  -0.578692 -0.628716  1.619709 -0.830115"
            ]
          },
          "metadata": {
            "tags": []
          },
          "execution_count": 9
        }
      ]
    },
    {
      "cell_type": "markdown",
      "metadata": {
        "id": "c0zC9ABOJ4Tw",
        "colab_type": "text"
      },
      "source": [
        "#Databunch prepration"
      ]
    },
    {
      "cell_type": "code",
      "metadata": {
        "id": "vuYK2mWxMCA5",
        "colab_type": "code",
        "colab": {}
      },
      "source": [
        "train_ds = TensorDataset(torch.tensor(train_df.values).float(), torch.tensor(train_y.values).float())\n",
        "valid_ds = TensorDataset(torch.tensor(test_df.values).float(), torch.tensor(test_y.values).float())"
      ],
      "execution_count": 0,
      "outputs": []
    },
    {
      "cell_type": "code",
      "metadata": {
        "id": "-odCGz4iUBaH",
        "colab_type": "code",
        "colab": {}
      },
      "source": [
        "bs = 1024 # batch size\n",
        "\n",
        "train_dl = DataLoader(train_ds, batch_size=bs, shuffle=True)\n",
        "valid_dl = DataLoader(valid_ds, batch_size=bs * 2)"
      ],
      "execution_count": 0,
      "outputs": []
    },
    {
      "cell_type": "code",
      "metadata": {
        "id": "gXXcED-jUCig",
        "colab_type": "code",
        "colab": {}
      },
      "source": [
        "databunch = basic_data.DataBunch(train_dl, valid_dl)"
      ],
      "execution_count": 0,
      "outputs": []
    },
    {
      "cell_type": "markdown",
      "metadata": {
        "id": "ltylHgNeKBN4",
        "colab_type": "text"
      },
      "source": [
        "#Model definition\n",
        "\n",
        "Here I have used a lot of `nn.Linear`, `nn.BatchNorm1d` and `nn.Tanh` layers. Basically `nn.Tanh` is there to add a nonlinearity.\n",
        "\n",
        "### Why `non-linearity`?\n",
        "Because without non-linearity the model would become a bunch of linear functions(layers here) and a combination of more than 1 linear function is again a linear function. There are other non-linear functions like `nn.ReLU` as well but `nn.Tanh` turned out to work better in this case when I tested.\n",
        "\n",
        "### Why `BatchNorm`?\n",
        "As we normalize our input data to make the learning process faster, Batchnorm does the same thing for the hidden layers. It normalizes the activations to make learning faster and easier.\n",
        "\n",
        "More details about `BatchNorm` and `non-linearities` can be found on Jeremy Howard's (__Fastai's__) __Practical Deep Learning for Coders 2019 course__. _Find the respective lecture_ [here](https://course.fast.ai/videos/?lesson=6)."
      ]
    },
    {
      "cell_type": "code",
      "metadata": {
        "id": "q8GTAZAzUF4G",
        "colab_type": "code",
        "colab": {}
      },
      "source": [
        "class Lin_batchnorms_tanh(nn.Module):\n",
        "    def __init__(self, in_features=7):\n",
        "        super().__init__()\n",
        "        self.encoder = nn.Sequential(\n",
        "            nn.Linear(in_features, 200),\n",
        "            nn.BatchNorm1d(200),\n",
        "            nn.Tanh(),\n",
        "            nn.Linear(200, 500),\n",
        "            nn.BatchNorm1d(500),\n",
        "            nn.Tanh(),\n",
        "            nn.Linear(500, 500),\n",
        "            nn.BatchNorm1d(500),\n",
        "            nn.Tanh(),\n",
        "            nn.Linear(500, 200),\n",
        "            nn.BatchNorm1d(200),\n",
        "            nn.Tanh(),\n",
        "            nn.Linear(200, 100),\n",
        "            nn.BatchNorm1d(100),\n",
        "            nn.Tanh(),\n",
        "            nn.Linear(100, 50),\n",
        "            nn.BatchNorm1d(50),\n",
        "            nn.Tanh(),\n",
        "            nn.Linear(50, 3)\n",
        "        )\n",
        "\n",
        "        self.decoder = nn.Sequential(\n",
        "            nn.Linear(3, 50),\n",
        "            nn.BatchNorm1d(50),\n",
        "            nn.Tanh(),\n",
        "            nn.Linear(50, 100),\n",
        "            nn.BatchNorm1d(100),\n",
        "            nn.Tanh(),\n",
        "            nn.Linear(100, 200),\n",
        "            nn.BatchNorm1d(200),\n",
        "            nn.Tanh(),\n",
        "            nn.Linear(200, 500),\n",
        "            nn.BatchNorm1d(500),\n",
        "            nn.Tanh(),\n",
        "            nn.Linear(500, 500),\n",
        "            nn.BatchNorm1d(500),\n",
        "            nn.Tanh(),\n",
        "            nn.Linear(500, 200),\n",
        "            nn.BatchNorm1d(200),\n",
        "            nn.Tanh(),\n",
        "            nn.Linear(200, 4)\n",
        "        )\n",
        "\n",
        "    def forward(self, x):\n",
        "        encoded = self.encoder(x)\n",
        "        return self.decoder(encoded)\n"
      ],
      "execution_count": 0,
      "outputs": []
    },
    {
      "cell_type": "markdown",
      "metadata": {
        "id": "x2EUbvcmUttd",
        "colab_type": "text"
      },
      "source": [
        "# Learner defination"
      ]
    },
    {
      "cell_type": "code",
      "metadata": {
        "id": "wxscmSG_WO7W",
        "colab_type": "code",
        "colab": {}
      },
      "source": [
        "Learner = basic_train.Learner\n",
        "learn = Learner(databunch, Lin_batchnorms_tanh(), loss_func=nn.MSELoss(), bn_wd=False, true_wd=True)"
      ],
      "execution_count": 0,
      "outputs": []
    },
    {
      "cell_type": "markdown",
      "metadata": {
        "id": "S-E_W7OPMRGL",
        "colab_type": "text"
      },
      "source": [
        "# Training"
      ]
    },
    {
      "cell_type": "markdown",
      "metadata": {
        "id": "WTs6yTywV3Qq",
        "colab_type": "text"
      },
      "source": [
        "## Find a good learning rate and train"
      ]
    },
    {
      "cell_type": "code",
      "metadata": {
        "id": "0lMGcmkuW-A2",
        "colab_type": "code",
        "outputId": "f70f1173-0e49-42cf-a8af-e270b8b52a2d",
        "colab": {
          "base_uri": "https://localhost:8080/",
          "height": 112
        }
      },
      "source": [
        "Train.lr_find(learn)"
      ],
      "execution_count": 15,
      "outputs": [
        {
          "output_type": "display_data",
          "data": {
            "text/html": [
              "\n",
              "    <div>\n",
              "        <style>\n",
              "            /* Turns off some styling */\n",
              "            progress {\n",
              "                /* gets rid of default border in Firefox and Opera. */\n",
              "                border: none;\n",
              "                /* Needs to be in here for Safari polyfill so background images work as expected. */\n",
              "                background-size: auto;\n",
              "            }\n",
              "            .progress-bar-interrupted, .progress-bar-interrupted::-webkit-progress-bar {\n",
              "                background: #F44336;\n",
              "            }\n",
              "        </style>\n",
              "      <progress value='0' class='' max='1' style='width:300px; height:20px; vertical-align: middle;'></progress>\n",
              "      0.00% [0/1 00:00<00:00]\n",
              "    </div>\n",
              "    \n",
              "<table border=\"1\" class=\"dataframe\">\n",
              "  <thead>\n",
              "    <tr style=\"text-align: left;\">\n",
              "      <th>epoch</th>\n",
              "      <th>train_loss</th>\n",
              "      <th>valid_loss</th>\n",
              "      <th>time</th>\n",
              "    </tr>\n",
              "  </thead>\n",
              "  <tbody>\n",
              "  </tbody>\n",
              "</table><p>\n",
              "\n",
              "    <div>\n",
              "        <style>\n",
              "            /* Turns off some styling */\n",
              "            progress {\n",
              "                /* gets rid of default border in Firefox and Opera. */\n",
              "                border: none;\n",
              "                /* Needs to be in here for Safari polyfill so background images work as expected. */\n",
              "                background-size: auto;\n",
              "            }\n",
              "            .progress-bar-interrupted, .progress-bar-interrupted::-webkit-progress-bar {\n",
              "                background: #F44336;\n",
              "            }\n",
              "        </style>\n",
              "      <progress value='81' class='' max='110' style='width:300px; height:20px; vertical-align: middle;'></progress>\n",
              "      73.64% [81/110 00:03<00:01 0.8658]\n",
              "    </div>\n",
              "    "
            ],
            "text/plain": [
              "<IPython.core.display.HTML object>"
            ]
          },
          "metadata": {
            "tags": []
          }
        },
        {
          "output_type": "stream",
          "text": [
            "LR Finder is complete, type {learner_name}.recorder.plot() to see the graph.\n"
          ],
          "name": "stdout"
        }
      ]
    },
    {
      "cell_type": "code",
      "metadata": {
        "id": "1e8H0gMxXEaO",
        "colab_type": "code",
        "outputId": "3bb57734-5e1e-4dd5-efc4-a82b99f78885",
        "colab": {
          "base_uri": "https://localhost:8080/",
          "height": 279
        }
      },
      "source": [
        "learn.recorder.plot()"
      ],
      "execution_count": 16,
      "outputs": [
        {
          "output_type": "display_data",
          "data": {
            "image/png": "[encoded data removed]",
            "text/plain": [
              "<Figure size 432x288 with 1 Axes>"
            ]
          },
          "metadata": {
            "tags": [],
            "needs_background": "light"
          }
        }
      ]
    },
    {
      "cell_type": "markdown",
      "metadata": {
        "id": "5qJ6MokAiPjb",
        "colab_type": "text"
      },
      "source": [
        "### One cycle training approach\n",
        "\n",
        "Here I am using the one cycle training approach.\n",
        "\n",
        "\n",
        "One cycle training policy was a research paper that came in _march, 2015_. __It basically makes the learning rate higher and then again lower as the training process goes on__.\n",
        "\n",
        "_The research paper can be found_ [here](https://arxiv.org/abs/1506.01186)."
      ]
    },
    {
      "cell_type": "code",
      "metadata": {
        "id": "9AtxVf6cXkOR",
        "colab_type": "code",
        "outputId": "ab3f8bbf-4e9d-43ff-db89-d30d3ec1a2d4",
        "colab": {
          "base_uri": "https://localhost:8080/",
          "height": 1000
        }
      },
      "source": [
        "learn.fit_one_cycle(150, 1e-3, wd=1e-6)"
      ],
      "execution_count": 17,
      "outputs": [
        {
          "output_type": "display_data",
          "data": {
            "text/html": [
              "<table border=\"1\" class=\"dataframe\">\n",
              "  <thead>\n",
              "    <tr style=\"text-align: left;\">\n",
              "      <th>epoch</th>\n",
              "      <th>train_loss</th>\n",
              "      <th>valid_loss</th>\n",
              "      <th>time</th>\n",
              "    </tr>\n",
              "  </thead>\n",
              "  <tbody>\n",
              "    <tr>\n",
              "      <td>0</td>\n",
              "      <td>0.146781</td>\n",
              "      <td>0.105421</td>\n",
              "      <td>00:04</td>\n",
              "    </tr>\n",
              "    <tr>\n",
              "      <td>1</td>\n",
              "      <td>0.074501</td>\n",
              "      <td>0.057689</td>\n",
              "      <td>00:04</td>\n",
              "    </tr>\n",
              "    <tr>\n",
              "      <td>2</td>\n",
              "      <td>0.047931</td>\n",
              "      <td>0.043427</td>\n",
              "      <td>00:04</td>\n",
              "    </tr>\n",
              "    <tr>\n",
              "      <td>3</td>\n",
              "      <td>0.039480</td>\n",
              "      <td>0.037469</td>\n",
              "      <td>00:04</td>\n",
              "    </tr>\n",
              "    <tr>\n",
              "      <td>4</td>\n",
              "      <td>0.034789</td>\n",
              "      <td>0.032794</td>\n",
              "      <td>00:04</td>\n",
              "    </tr>\n",
              "    <tr>\n",
              "      <td>5</td>\n",
              "      <td>0.033023</td>\n",
              "      <td>0.032627</td>\n",
              "      <td>00:04</td>\n",
              "    </tr>\n",
              "    <tr>\n",
              "      <td>6</td>\n",
              "      <td>0.030127</td>\n",
              "      <td>0.029575</td>\n",
              "      <td>00:04</td>\n",
              "    </tr>\n",
              "    <tr>\n",
              "      <td>7</td>\n",
              "      <td>0.028380</td>\n",
              "      <td>0.032584</td>\n",
              "      <td>00:04</td>\n",
              "    </tr>\n",
              "    <tr>\n",
              "      <td>8</td>\n",
              "      <td>0.027831</td>\n",
              "      <td>0.026400</td>\n",
              "      <td>00:04</td>\n",
              "    </tr>\n",
              "    <tr>\n",
              "      <td>9</td>\n",
              "      <td>0.028609</td>\n",
              "      <td>0.027181</td>\n",
              "      <td>00:04</td>\n",
              "    </tr>\n",
              "    <tr>\n",
              "      <td>10</td>\n",
              "      <td>0.027210</td>\n",
              "      <td>0.029779</td>\n",
              "      <td>00:04</td>\n",
              "    </tr>\n",
              "    <tr>\n",
              "      <td>11</td>\n",
              "      <td>0.026514</td>\n",
              "      <td>0.029248</td>\n",
              "      <td>00:04</td>\n",
              "    </tr>\n",
              "    <tr>\n",
              "      <td>12</td>\n",
              "      <td>0.026364</td>\n",
              "      <td>0.027948</td>\n",
              "      <td>00:04</td>\n",
              "    </tr>\n",
              "    <tr>\n",
              "      <td>13</td>\n",
              "      <td>0.026369</td>\n",
              "      <td>0.033767</td>\n",
              "      <td>00:04</td>\n",
              "    </tr>\n",
              "    <tr>\n",
              "      <td>14</td>\n",
              "      <td>0.024981</td>\n",
              "      <td>0.032010</td>\n",
              "      <td>00:04</td>\n",
              "    </tr>\n",
              "    <tr>\n",
              "      <td>15</td>\n",
              "      <td>0.024905</td>\n",
              "      <td>0.031441</td>\n",
              "      <td>00:04</td>\n",
              "    </tr>\n",
              "    <tr>\n",
              "      <td>16</td>\n",
              "      <td>0.024245</td>\n",
              "      <td>0.024089</td>\n",
              "      <td>00:04</td>\n",
              "    </tr>\n",
              "    <tr>\n",
              "      <td>17</td>\n",
              "      <td>0.024457</td>\n",
              "      <td>0.025850</td>\n",
              "      <td>00:04</td>\n",
              "    </tr>\n",
              "    <tr>\n",
              "      <td>18</td>\n",
              "      <td>0.024642</td>\n",
              "      <td>0.035242</td>\n",
              "      <td>00:04</td>\n",
              "    </tr>\n",
              "    <tr>\n",
              "      <td>19</td>\n",
              "      <td>0.023797</td>\n",
              "      <td>0.028775</td>\n",
              "      <td>00:04</td>\n",
              "    </tr>\n",
              "    <tr>\n",
              "      <td>20</td>\n",
              "      <td>0.024038</td>\n",
              "      <td>0.029207</td>\n",
              "      <td>00:04</td>\n",
              "    </tr>\n",
              "    <tr>\n",
              "      <td>21</td>\n",
              "      <td>0.023840</td>\n",
              "      <td>0.034892</td>\n",
              "      <td>00:04</td>\n",
              "    </tr>\n",
              "    <tr>\n",
              "      <td>22</td>\n",
              "      <td>0.024092</td>\n",
              "      <td>0.026121</td>\n",
              "      <td>00:04</td>\n",
              "    </tr>\n",
              "    <tr>\n",
              "      <td>23</td>\n",
              "      <td>0.022877</td>\n",
              "      <td>0.024872</td>\n",
              "      <td>00:04</td>\n",
              "    </tr>\n",
              "    <tr>\n",
              "      <td>24</td>\n",
              "      <td>0.023510</td>\n",
              "      <td>0.040183</td>\n",
              "      <td>00:04</td>\n",
              "    </tr>\n",
              "    <tr>\n",
              "      <td>25</td>\n",
              "      <td>0.023559</td>\n",
              "      <td>0.026988</td>\n",
              "      <td>00:04</td>\n",
              "    </tr>\n",
              "    <tr>\n",
              "      <td>26</td>\n",
              "      <td>0.023182</td>\n",
              "      <td>0.025571</td>\n",
              "      <td>00:04</td>\n",
              "    </tr>\n",
              "    <tr>\n",
              "      <td>27</td>\n",
              "      <td>0.023419</td>\n",
              "      <td>0.042506</td>\n",
              "      <td>00:04</td>\n",
              "    </tr>\n",
              "    <tr>\n",
              "      <td>28</td>\n",
              "      <td>0.024005</td>\n",
              "      <td>0.027125</td>\n",
              "      <td>00:04</td>\n",
              "    </tr>\n",
              "    <tr>\n",
              "      <td>29</td>\n",
              "      <td>0.022080</td>\n",
              "      <td>0.029956</td>\n",
              "      <td>00:04</td>\n",
              "    </tr>\n",
              "    <tr>\n",
              "      <td>30</td>\n",
              "      <td>0.022887</td>\n",
              "      <td>0.026647</td>\n",
              "      <td>00:04</td>\n",
              "    </tr>\n",
              "    <tr>\n",
              "      <td>31</td>\n",
              "      <td>0.022450</td>\n",
              "      <td>0.036965</td>\n",
              "      <td>00:04</td>\n",
              "    </tr>\n",
              "    <tr>\n",
              "      <td>32</td>\n",
              "      <td>0.023868</td>\n",
              "      <td>0.038525</td>\n",
              "      <td>00:04</td>\n",
              "    </tr>\n",
              "    <tr>\n",
              "      <td>33</td>\n",
              "      <td>0.023461</td>\n",
              "      <td>0.052363</td>\n",
              "      <td>00:04</td>\n",
              "    </tr>\n",
              "    <tr>\n",
              "      <td>34</td>\n",
              "      <td>0.021909</td>\n",
              "      <td>0.028709</td>\n",
              "      <td>00:04</td>\n",
              "    </tr>\n",
              "    <tr>\n",
              "      <td>35</td>\n",
              "      <td>0.025046</td>\n",
              "      <td>0.029764</td>\n",
              "      <td>00:04</td>\n",
              "    </tr>\n",
              "    <tr>\n",
              "      <td>36</td>\n",
              "      <td>0.021402</td>\n",
              "      <td>0.024421</td>\n",
              "      <td>00:04</td>\n",
              "    </tr>\n",
              "    <tr>\n",
              "      <td>37</td>\n",
              "      <td>0.021214</td>\n",
              "      <td>0.061996</td>\n",
              "      <td>00:04</td>\n",
              "    </tr>\n",
              "    <tr>\n",
              "      <td>38</td>\n",
              "      <td>0.020943</td>\n",
              "      <td>0.032417</td>\n",
              "      <td>00:04</td>\n",
              "    </tr>\n",
              "    <tr>\n",
              "      <td>39</td>\n",
              "      <td>0.022598</td>\n",
              "      <td>0.033390</td>\n",
              "      <td>00:04</td>\n",
              "    </tr>\n",
              "    <tr>\n",
              "      <td>40</td>\n",
              "      <td>0.021500</td>\n",
              "      <td>0.027413</td>\n",
              "      <td>00:04</td>\n",
              "    </tr>\n",
              "    <tr>\n",
              "      <td>41</td>\n",
              "      <td>0.021490</td>\n",
              "      <td>0.036441</td>\n",
              "      <td>00:04</td>\n",
              "    </tr>\n",
              "    <tr>\n",
              "      <td>42</td>\n",
              "      <td>0.020007</td>\n",
              "      <td>0.038239</td>\n",
              "      <td>00:04</td>\n",
              "    </tr>\n",
              "    <tr>\n",
              "      <td>43</td>\n",
              "      <td>0.020651</td>\n",
              "      <td>0.056899</td>\n",
              "      <td>00:04</td>\n",
              "    </tr>\n",
              "    <tr>\n",
              "      <td>44</td>\n",
              "      <td>0.020419</td>\n",
              "      <td>0.026159</td>\n",
              "      <td>00:04</td>\n",
              "    </tr>\n",
              "    <tr>\n",
              "      <td>45</td>\n",
              "      <td>0.019034</td>\n",
              "      <td>0.023731</td>\n",
              "      <td>00:04</td>\n",
              "    </tr>\n",
              "    <tr>\n",
              "      <td>46</td>\n",
              "      <td>0.021852</td>\n",
              "      <td>0.032984</td>\n",
              "      <td>00:04</td>\n",
              "    </tr>\n",
              "    <tr>\n",
              "      <td>47</td>\n",
              "      <td>0.020362</td>\n",
              "      <td>0.034827</td>\n",
              "      <td>00:04</td>\n",
              "    </tr>\n",
              "    <tr>\n",
              "      <td>48</td>\n",
              "      <td>0.019331</td>\n",
              "      <td>0.030468</td>\n",
              "      <td>00:04</td>\n",
              "    </tr>\n",
              "    <tr>\n",
              "      <td>49</td>\n",
              "      <td>0.018979</td>\n",
              "      <td>0.024462</td>\n",
              "      <td>00:04</td>\n",
              "    </tr>\n",
              "    <tr>\n",
              "      <td>50</td>\n",
              "      <td>0.019756</td>\n",
              "      <td>0.029316</td>\n",
              "      <td>00:04</td>\n",
              "    </tr>\n",
              "    <tr>\n",
              "      <td>51</td>\n",
              "      <td>0.019891</td>\n",
              "      <td>0.027356</td>\n",
              "      <td>00:04</td>\n",
              "    </tr>\n",
              "    <tr>\n",
              "      <td>52</td>\n",
              "      <td>0.018775</td>\n",
              "      <td>0.024063</td>\n",
              "      <td>00:04</td>\n",
              "    </tr>\n",
              "    <tr>\n",
              "      <td>53</td>\n",
              "      <td>0.018475</td>\n",
              "      <td>0.033344</td>\n",
              "      <td>00:04</td>\n",
              "    </tr>\n",
              "    <tr>\n",
              "      <td>54</td>\n",
              "      <td>0.016897</td>\n",
              "      <td>0.022906</td>\n",
              "      <td>00:04</td>\n",
              "    </tr>\n",
              "    <tr>\n",
              "      <td>55</td>\n",
              "      <td>0.018547</td>\n",
              "      <td>0.028660</td>\n",
              "      <td>00:04</td>\n",
              "    </tr>\n",
              "    <tr>\n",
              "      <td>56</td>\n",
              "      <td>0.017790</td>\n",
              "      <td>0.023791</td>\n",
              "      <td>00:04</td>\n",
              "    </tr>\n",
              "    <tr>\n",
              "      <td>57</td>\n",
              "      <td>0.018246</td>\n",
              "      <td>0.048060</td>\n",
              "      <td>00:04</td>\n",
              "    </tr>\n",
              "    <tr>\n",
              "      <td>58</td>\n",
              "      <td>0.017246</td>\n",
              "      <td>0.031840</td>\n",
              "      <td>00:04</td>\n",
              "    </tr>\n",
              "    <tr>\n",
              "      <td>59</td>\n",
              "      <td>0.017705</td>\n",
              "      <td>0.026929</td>\n",
              "      <td>00:04</td>\n",
              "    </tr>\n",
              "    <tr>\n",
              "      <td>60</td>\n",
              "      <td>0.016606</td>\n",
              "      <td>0.021206</td>\n",
              "      <td>00:04</td>\n",
              "    </tr>\n",
              "    <tr>\n",
              "      <td>61</td>\n",
              "      <td>0.018163</td>\n",
              "      <td>0.024560</td>\n",
              "      <td>00:04</td>\n",
              "    </tr>\n",
              "    <tr>\n",
              "      <td>62</td>\n",
              "      <td>0.017458</td>\n",
              "      <td>0.027715</td>\n",
              "      <td>00:04</td>\n",
              "    </tr>\n",
              "    <tr>\n",
              "      <td>63</td>\n",
              "      <td>0.014768</td>\n",
              "      <td>0.020558</td>\n",
              "      <td>00:04</td>\n",
              "    </tr>\n",
              "    <tr>\n",
              "      <td>64</td>\n",
              "      <td>0.016927</td>\n",
              "      <td>0.028356</td>\n",
              "      <td>00:04</td>\n",
              "    </tr>\n",
              "    <tr>\n",
              "      <td>65</td>\n",
              "      <td>0.015960</td>\n",
              "      <td>0.024693</td>\n",
              "      <td>00:04</td>\n",
              "    </tr>\n",
              "    <tr>\n",
              "      <td>66</td>\n",
              "      <td>0.015932</td>\n",
              "      <td>0.018205</td>\n",
              "      <td>00:04</td>\n",
              "    </tr>\n",
              "    <tr>\n",
              "      <td>67</td>\n",
              "      <td>0.017474</td>\n",
              "      <td>0.029219</td>\n",
              "      <td>00:04</td>\n",
              "    </tr>\n",
              "    <tr>\n",
              "      <td>68</td>\n",
              "      <td>0.015597</td>\n",
              "      <td>0.019126</td>\n",
              "      <td>00:04</td>\n",
              "    </tr>\n",
              "    <tr>\n",
              "      <td>69</td>\n",
              "      <td>0.016194</td>\n",
              "      <td>0.016035</td>\n",
              "      <td>00:04</td>\n",
              "    </tr>\n",
              "    <tr>\n",
              "      <td>70</td>\n",
              "      <td>0.015651</td>\n",
              "      <td>0.015470</td>\n",
              "      <td>00:04</td>\n",
              "    </tr>\n",
              "    <tr>\n",
              "      <td>71</td>\n",
              "      <td>0.014743</td>\n",
              "      <td>0.014069</td>\n",
              "      <td>00:04</td>\n",
              "    </tr>\n",
              "    <tr>\n",
              "      <td>72</td>\n",
              "      <td>0.014213</td>\n",
              "      <td>0.023983</td>\n",
              "      <td>00:04</td>\n",
              "    </tr>\n",
              "    <tr>\n",
              "      <td>73</td>\n",
              "      <td>0.014821</td>\n",
              "      <td>0.015944</td>\n",
              "      <td>00:04</td>\n",
              "    </tr>\n",
              "    <tr>\n",
              "      <td>74</td>\n",
              "      <td>0.014806</td>\n",
              "      <td>0.018058</td>\n",
              "      <td>00:04</td>\n",
              "    </tr>\n",
              "    <tr>\n",
              "      <td>75</td>\n",
              "      <td>0.013875</td>\n",
              "      <td>0.013641</td>\n",
              "      <td>00:04</td>\n",
              "    </tr>\n",
              "    <tr>\n",
              "      <td>76</td>\n",
              "      <td>0.014656</td>\n",
              "      <td>0.015416</td>\n",
              "      <td>00:04</td>\n",
              "    </tr>\n",
              "    <tr>\n",
              "      <td>77</td>\n",
              "      <td>0.013883</td>\n",
              "      <td>0.017040</td>\n",
              "      <td>00:04</td>\n",
              "    </tr>\n",
              "    <tr>\n",
              "      <td>78</td>\n",
              "      <td>0.013902</td>\n",
              "      <td>0.015080</td>\n",
              "      <td>00:04</td>\n",
              "    </tr>\n",
              "    <tr>\n",
              "      <td>79</td>\n",
              "      <td>0.013897</td>\n",
              "      <td>0.014386</td>\n",
              "      <td>00:04</td>\n",
              "    </tr>\n",
              "    <tr>\n",
              "      <td>80</td>\n",
              "      <td>0.013064</td>\n",
              "      <td>0.023977</td>\n",
              "      <td>00:04</td>\n",
              "    </tr>\n",
              "    <tr>\n",
              "      <td>81</td>\n",
              "      <td>0.013221</td>\n",
              "      <td>0.013323</td>\n",
              "      <td>00:04</td>\n",
              "    </tr>\n",
              "    <tr>\n",
              "      <td>82</td>\n",
              "      <td>0.013409</td>\n",
              "      <td>0.014967</td>\n",
              "      <td>00:04</td>\n",
              "    </tr>\n",
              "    <tr>\n",
              "      <td>83</td>\n",
              "      <td>0.013260</td>\n",
              "      <td>0.015641</td>\n",
              "      <td>00:04</td>\n",
              "    </tr>\n",
              "    <tr>\n",
              "      <td>84</td>\n",
              "      <td>0.012668</td>\n",
              "      <td>0.013193</td>\n",
              "      <td>00:04</td>\n",
              "    </tr>\n",
              "    <tr>\n",
              "      <td>85</td>\n",
              "      <td>0.013132</td>\n",
              "      <td>0.013199</td>\n",
              "      <td>00:04</td>\n",
              "    </tr>\n",
              "    <tr>\n",
              "      <td>86</td>\n",
              "      <td>0.013208</td>\n",
              "      <td>0.015698</td>\n",
              "      <td>00:04</td>\n",
              "    </tr>\n",
              "    <tr>\n",
              "      <td>87</td>\n",
              "      <td>0.012178</td>\n",
              "      <td>0.012685</td>\n",
              "      <td>00:04</td>\n",
              "    </tr>\n",
              "    <tr>\n",
              "      <td>88</td>\n",
              "      <td>0.012607</td>\n",
              "      <td>0.012292</td>\n",
              "      <td>00:04</td>\n",
              "    </tr>\n",
              "    <tr>\n",
              "      <td>89</td>\n",
              "      <td>0.012776</td>\n",
              "      <td>0.012708</td>\n",
              "      <td>00:04</td>\n",
              "    </tr>\n",
              "    <tr>\n",
              "      <td>90</td>\n",
              "      <td>0.012081</td>\n",
              "      <td>0.013957</td>\n",
              "      <td>00:04</td>\n",
              "    </tr>\n",
              "    <tr>\n",
              "      <td>91</td>\n",
              "      <td>0.011799</td>\n",
              "      <td>0.011464</td>\n",
              "      <td>00:04</td>\n",
              "    </tr>\n",
              "    <tr>\n",
              "      <td>92</td>\n",
              "      <td>0.011993</td>\n",
              "      <td>0.010073</td>\n",
              "      <td>00:04</td>\n",
              "    </tr>\n",
              "    <tr>\n",
              "      <td>93</td>\n",
              "      <td>0.011628</td>\n",
              "      <td>0.014800</td>\n",
              "      <td>00:04</td>\n",
              "    </tr>\n",
              "    <tr>\n",
              "      <td>94</td>\n",
              "      <td>0.011584</td>\n",
              "      <td>0.010050</td>\n",
              "      <td>00:04</td>\n",
              "    </tr>\n",
              "    <tr>\n",
              "      <td>95</td>\n",
              "      <td>0.011459</td>\n",
              "      <td>0.012214</td>\n",
              "      <td>00:04</td>\n",
              "    </tr>\n",
              "    <tr>\n",
              "      <td>96</td>\n",
              "      <td>0.011124</td>\n",
              "      <td>0.010821</td>\n",
              "      <td>00:04</td>\n",
              "    </tr>\n",
              "    <tr>\n",
              "      <td>97</td>\n",
              "      <td>0.010632</td>\n",
              "      <td>0.010518</td>\n",
              "      <td>00:04</td>\n",
              "    </tr>\n",
              "    <tr>\n",
              "      <td>98</td>\n",
              "      <td>0.010639</td>\n",
              "      <td>0.010273</td>\n",
              "      <td>00:04</td>\n",
              "    </tr>\n",
              "    <tr>\n",
              "      <td>99</td>\n",
              "      <td>0.011162</td>\n",
              "      <td>0.010847</td>\n",
              "      <td>00:04</td>\n",
              "    </tr>\n",
              "    <tr>\n",
              "      <td>100</td>\n",
              "      <td>0.011274</td>\n",
              "      <td>0.011405</td>\n",
              "      <td>00:04</td>\n",
              "    </tr>\n",
              "    <tr>\n",
              "      <td>101</td>\n",
              "      <td>0.010619</td>\n",
              "      <td>0.010115</td>\n",
              "      <td>00:04</td>\n",
              "    </tr>\n",
              "    <tr>\n",
              "      <td>102</td>\n",
              "      <td>0.010723</td>\n",
              "      <td>0.010299</td>\n",
              "      <td>00:04</td>\n",
              "    </tr>\n",
              "    <tr>\n",
              "      <td>103</td>\n",
              "      <td>0.010558</td>\n",
              "      <td>0.010398</td>\n",
              "      <td>00:04</td>\n",
              "    </tr>\n",
              "    <tr>\n",
              "      <td>104</td>\n",
              "      <td>0.010637</td>\n",
              "      <td>0.012571</td>\n",
              "      <td>00:04</td>\n",
              "    </tr>\n",
              "    <tr>\n",
              "      <td>105</td>\n",
              "      <td>0.011297</td>\n",
              "      <td>0.012325</td>\n",
              "      <td>00:04</td>\n",
              "    </tr>\n",
              "    <tr>\n",
              "      <td>106</td>\n",
              "      <td>0.009974</td>\n",
              "      <td>0.010297</td>\n",
              "      <td>00:04</td>\n",
              "    </tr>\n",
              "    <tr>\n",
              "      <td>107</td>\n",
              "      <td>0.009971</td>\n",
              "      <td>0.009759</td>\n",
              "      <td>00:04</td>\n",
              "    </tr>\n",
              "    <tr>\n",
              "      <td>108</td>\n",
              "      <td>0.010146</td>\n",
              "      <td>0.010944</td>\n",
              "      <td>00:04</td>\n",
              "    </tr>\n",
              "    <tr>\n",
              "      <td>109</td>\n",
              "      <td>0.009954</td>\n",
              "      <td>0.009722</td>\n",
              "      <td>00:04</td>\n",
              "    </tr>\n",
              "    <tr>\n",
              "      <td>110</td>\n",
              "      <td>0.010062</td>\n",
              "      <td>0.008765</td>\n",
              "      <td>00:04</td>\n",
              "    </tr>\n",
              "    <tr>\n",
              "      <td>111</td>\n",
              "      <td>0.009739</td>\n",
              "      <td>0.008792</td>\n",
              "      <td>00:04</td>\n",
              "    </tr>\n",
              "    <tr>\n",
              "      <td>112</td>\n",
              "      <td>0.009628</td>\n",
              "      <td>0.009643</td>\n",
              "      <td>00:04</td>\n",
              "    </tr>\n",
              "    <tr>\n",
              "      <td>113</td>\n",
              "      <td>0.009238</td>\n",
              "      <td>0.008986</td>\n",
              "      <td>00:04</td>\n",
              "    </tr>\n",
              "    <tr>\n",
              "      <td>114</td>\n",
              "      <td>0.008896</td>\n",
              "      <td>0.008100</td>\n",
              "      <td>00:04</td>\n",
              "    </tr>\n",
              "    <tr>\n",
              "      <td>115</td>\n",
              "      <td>0.009698</td>\n",
              "      <td>0.008463</td>\n",
              "      <td>00:04</td>\n",
              "    </tr>\n",
              "    <tr>\n",
              "      <td>116</td>\n",
              "      <td>0.009536</td>\n",
              "      <td>0.009928</td>\n",
              "      <td>00:04</td>\n",
              "    </tr>\n",
              "    <tr>\n",
              "      <td>117</td>\n",
              "      <td>0.009467</td>\n",
              "      <td>0.008956</td>\n",
              "      <td>00:04</td>\n",
              "    </tr>\n",
              "    <tr>\n",
              "      <td>118</td>\n",
              "      <td>0.009189</td>\n",
              "      <td>0.009092</td>\n",
              "      <td>00:04</td>\n",
              "    </tr>\n",
              "    <tr>\n",
              "      <td>119</td>\n",
              "      <td>0.009617</td>\n",
              "      <td>0.008821</td>\n",
              "      <td>00:04</td>\n",
              "    </tr>\n",
              "    <tr>\n",
              "      <td>120</td>\n",
              "      <td>0.009541</td>\n",
              "      <td>0.008990</td>\n",
              "      <td>00:04</td>\n",
              "    </tr>\n",
              "    <tr>\n",
              "      <td>121</td>\n",
              "      <td>0.009044</td>\n",
              "      <td>0.008985</td>\n",
              "      <td>00:04</td>\n",
              "    </tr>\n",
              "    <tr>\n",
              "      <td>122</td>\n",
              "      <td>0.008785</td>\n",
              "      <td>0.007849</td>\n",
              "      <td>00:04</td>\n",
              "    </tr>\n",
              "    <tr>\n",
              "      <td>123</td>\n",
              "      <td>0.008606</td>\n",
              "      <td>0.007862</td>\n",
              "      <td>00:04</td>\n",
              "    </tr>\n",
              "    <tr>\n",
              "      <td>124</td>\n",
              "      <td>0.008694</td>\n",
              "      <td>0.008312</td>\n",
              "      <td>00:04</td>\n",
              "    </tr>\n",
              "    <tr>\n",
              "      <td>125</td>\n",
              "      <td>0.008649</td>\n",
              "      <td>0.008046</td>\n",
              "      <td>00:04</td>\n",
              "    </tr>\n",
              "    <tr>\n",
              "      <td>126</td>\n",
              "      <td>0.008738</td>\n",
              "      <td>0.008070</td>\n",
              "      <td>00:04</td>\n",
              "    </tr>\n",
              "    <tr>\n",
              "      <td>127</td>\n",
              "      <td>0.008531</td>\n",
              "      <td>0.007650</td>\n",
              "      <td>00:04</td>\n",
              "    </tr>\n",
              "    <tr>\n",
              "      <td>128</td>\n",
              "      <td>0.008384</td>\n",
              "      <td>0.007881</td>\n",
              "      <td>00:04</td>\n",
              "    </tr>\n",
              "    <tr>\n",
              "      <td>129</td>\n",
              "      <td>0.008273</td>\n",
              "      <td>0.007503</td>\n",
              "      <td>00:04</td>\n",
              "    </tr>\n",
              "    <tr>\n",
              "      <td>130</td>\n",
              "      <td>0.008362</td>\n",
              "      <td>0.007692</td>\n",
              "      <td>00:04</td>\n",
              "    </tr>\n",
              "    <tr>\n",
              "      <td>131</td>\n",
              "      <td>0.008149</td>\n",
              "      <td>0.007495</td>\n",
              "      <td>00:04</td>\n",
              "    </tr>\n",
              "    <tr>\n",
              "      <td>132</td>\n",
              "      <td>0.008043</td>\n",
              "      <td>0.007311</td>\n",
              "      <td>00:04</td>\n",
              "    </tr>\n",
              "    <tr>\n",
              "      <td>133</td>\n",
              "      <td>0.008221</td>\n",
              "      <td>0.007824</td>\n",
              "      <td>00:04</td>\n",
              "    </tr>\n",
              "    <tr>\n",
              "      <td>134</td>\n",
              "      <td>0.008118</td>\n",
              "      <td>0.007583</td>\n",
              "      <td>00:04</td>\n",
              "    </tr>\n",
              "    <tr>\n",
              "      <td>135</td>\n",
              "      <td>0.008085</td>\n",
              "      <td>0.007259</td>\n",
              "      <td>00:04</td>\n",
              "    </tr>\n",
              "    <tr>\n",
              "      <td>136</td>\n",
              "      <td>0.007872</td>\n",
              "      <td>0.007238</td>\n",
              "      <td>00:04</td>\n",
              "    </tr>\n",
              "    <tr>\n",
              "      <td>137</td>\n",
              "      <td>0.007657</td>\n",
              "      <td>0.007111</td>\n",
              "      <td>00:04</td>\n",
              "    </tr>\n",
              "    <tr>\n",
              "      <td>138</td>\n",
              "      <td>0.007830</td>\n",
              "      <td>0.007275</td>\n",
              "      <td>00:04</td>\n",
              "    </tr>\n",
              "    <tr>\n",
              "      <td>139</td>\n",
              "      <td>0.007871</td>\n",
              "      <td>0.007206</td>\n",
              "      <td>00:04</td>\n",
              "    </tr>\n",
              "    <tr>\n",
              "      <td>140</td>\n",
              "      <td>0.007744</td>\n",
              "      <td>0.007073</td>\n",
              "      <td>00:04</td>\n",
              "    </tr>\n",
              "    <tr>\n",
              "      <td>141</td>\n",
              "      <td>0.007570</td>\n",
              "      <td>0.007058</td>\n",
              "      <td>00:04</td>\n",
              "    </tr>\n",
              "    <tr>\n",
              "      <td>142</td>\n",
              "      <td>0.007553</td>\n",
              "      <td>0.007154</td>\n",
              "      <td>00:04</td>\n",
              "    </tr>\n",
              "    <tr>\n",
              "      <td>143</td>\n",
              "      <td>0.007708</td>\n",
              "      <td>0.007137</td>\n",
              "      <td>00:04</td>\n",
              "    </tr>\n",
              "    <tr>\n",
              "      <td>144</td>\n",
              "      <td>0.007744</td>\n",
              "      <td>0.007126</td>\n",
              "      <td>00:04</td>\n",
              "    </tr>\n",
              "    <tr>\n",
              "      <td>145</td>\n",
              "      <td>0.007698</td>\n",
              "      <td>0.006981</td>\n",
              "      <td>00:04</td>\n",
              "    </tr>\n",
              "    <tr>\n",
              "      <td>146</td>\n",
              "      <td>0.007597</td>\n",
              "      <td>0.007189</td>\n",
              "      <td>00:04</td>\n",
              "    </tr>\n",
              "    <tr>\n",
              "      <td>147</td>\n",
              "      <td>0.007702</td>\n",
              "      <td>0.007162</td>\n",
              "      <td>00:04</td>\n",
              "    </tr>\n",
              "    <tr>\n",
              "      <td>148</td>\n",
              "      <td>0.007698</td>\n",
              "      <td>0.006971</td>\n",
              "      <td>00:04</td>\n",
              "    </tr>\n",
              "    <tr>\n",
              "      <td>149</td>\n",
              "      <td>0.007739</td>\n",
              "      <td>0.007068</td>\n",
              "      <td>00:04</td>\n",
              "    </tr>\n",
              "  </tbody>\n",
              "</table>"
            ],
            "text/plain": [
              "<IPython.core.display.HTML object>"
            ]
          },
          "metadata": {
            "tags": []
          }
        }
      ]
    },
    {
      "cell_type": "code",
      "metadata": {
        "id": "EJYPXoU5mOwF",
        "colab_type": "code",
        "outputId": "df9dc892-9938-4ab8-c4b8-3b95b9514f20",
        "colab": {
          "base_uri": "https://localhost:8080/",
          "height": 282
        }
      },
      "source": [
        "# plot epochs VS validation loss\n",
        "plt.plot(learn.recorder.val_losses)"
      ],
      "execution_count": 18,
      "outputs": [
        {
          "output_type": "execute_result",
          "data": {
            "text/plain": [
              "[<matplotlib.lines.Line2D at 0x7f6136202ef0>]"
            ]
          },
          "metadata": {
            "tags": []
          },
          "execution_count": 18
        },
        {
          "output_type": "display_data",
          "data": {
            "image/png": "[encoded data removed]",
            "text/plain": [
              "<Figure size 432x288 with 1 Axes>"
            ]
          },
          "metadata": {
            "tags": [],
            "needs_background": "light"
          }
        }
      ]
    },
    {
      "cell_type": "code",
      "metadata": {
        "id": "l5xPHtHfTpRI",
        "colab_type": "code",
        "colab": {}
      },
      "source": [
        "learn.save(\"AE-1\")"
      ],
      "execution_count": 0,
      "outputs": []
    },
    {
      "cell_type": "code",
      "metadata": {
        "id": "48Of2Ju8X8Ge",
        "colab_type": "code",
        "outputId": "4379f0e0-66d1-4ca5-daf4-82df90b7ab36",
        "colab": {
          "base_uri": "https://localhost:8080/",
          "height": 112
        }
      },
      "source": [
        "learn.lr_find()"
      ],
      "execution_count": 20,
      "outputs": [
        {
          "output_type": "display_data",
          "data": {
            "text/html": [
              "\n",
              "    <div>\n",
              "        <style>\n",
              "            /* Turns off some styling */\n",
              "            progress {\n",
              "                /* gets rid of default border in Firefox and Opera. */\n",
              "                border: none;\n",
              "                /* Needs to be in here for Safari polyfill so background images work as expected. */\n",
              "                background-size: auto;\n",
              "            }\n",
              "            .progress-bar-interrupted, .progress-bar-interrupted::-webkit-progress-bar {\n",
              "                background: #F44336;\n",
              "            }\n",
              "        </style>\n",
              "      <progress value='0' class='' max='1' style='width:300px; height:20px; vertical-align: middle;'></progress>\n",
              "      0.00% [0/1 00:00<00:00]\n",
              "    </div>\n",
              "    \n",
              "<table border=\"1\" class=\"dataframe\">\n",
              "  <thead>\n",
              "    <tr style=\"text-align: left;\">\n",
              "      <th>epoch</th>\n",
              "      <th>train_loss</th>\n",
              "      <th>valid_loss</th>\n",
              "      <th>time</th>\n",
              "    </tr>\n",
              "  </thead>\n",
              "  <tbody>\n",
              "  </tbody>\n",
              "</table><p>\n",
              "\n",
              "    <div>\n",
              "        <style>\n",
              "            /* Turns off some styling */\n",
              "            progress {\n",
              "                /* gets rid of default border in Firefox and Opera. */\n",
              "                border: none;\n",
              "                /* Needs to be in here for Safari polyfill so background images work as expected. */\n",
              "                background-size: auto;\n",
              "            }\n",
              "            .progress-bar-interrupted, .progress-bar-interrupted::-webkit-progress-bar {\n",
              "                background: #F44336;\n",
              "            }\n",
              "        </style>\n",
              "      <progress value='60' class='' max='110' style='width:300px; height:20px; vertical-align: middle;'></progress>\n",
              "      54.55% [60/110 00:02<00:02 0.0145]\n",
              "    </div>\n",
              "    "
            ],
            "text/plain": [
              "<IPython.core.display.HTML object>"
            ]
          },
          "metadata": {
            "tags": []
          }
        },
        {
          "output_type": "stream",
          "text": [
            "LR Finder is complete, type {learner_name}.recorder.plot() to see the graph.\n"
          ],
          "name": "stdout"
        }
      ]
    },
    {
      "cell_type": "code",
      "metadata": {
        "id": "oAlQ-2nMYW1q",
        "colab_type": "code",
        "outputId": "ed73563b-c655-4161-f7ab-c23e6c66cd08",
        "colab": {
          "base_uri": "https://localhost:8080/",
          "height": 279
        }
      },
      "source": [
        "learn.recorder.plot()"
      ],
      "execution_count": 21,
      "outputs": [
        {
          "output_type": "display_data",
          "data": {
            "image/png": "[encoded data removed]",
            "text/plain": [
              "<Figure size 432x288 with 1 Axes>"
            ]
          },
          "metadata": {
            "tags": [],
            "needs_background": "light"
          }
        }
      ]
    },
    {
      "cell_type": "code",
      "metadata": {
        "id": "Id1H6BOpnzuF",
        "colab_type": "code",
        "outputId": "984f64e2-3dc3-4d2c-93ac-b8e901b8ca7c",
        "colab": {
          "base_uri": "https://localhost:8080/",
          "height": 979
        }
      },
      "source": [
        "learn.fit_one_cycle(30, 1e-6)"
      ],
      "execution_count": 22,
      "outputs": [
        {
          "output_type": "display_data",
          "data": {
            "text/html": [
              "<table border=\"1\" class=\"dataframe\">\n",
              "  <thead>\n",
              "    <tr style=\"text-align: left;\">\n",
              "      <th>epoch</th>\n",
              "      <th>train_loss</th>\n",
              "      <th>valid_loss</th>\n",
              "      <th>time</th>\n",
              "    </tr>\n",
              "  </thead>\n",
              "  <tbody>\n",
              "    <tr>\n",
              "      <td>0</td>\n",
              "      <td>0.007719</td>\n",
              "      <td>0.007062</td>\n",
              "      <td>00:05</td>\n",
              "    </tr>\n",
              "    <tr>\n",
              "      <td>1</td>\n",
              "      <td>0.007614</td>\n",
              "      <td>0.006964</td>\n",
              "      <td>00:04</td>\n",
              "    </tr>\n",
              "    <tr>\n",
              "      <td>2</td>\n",
              "      <td>0.007484</td>\n",
              "      <td>0.007029</td>\n",
              "      <td>00:04</td>\n",
              "    </tr>\n",
              "    <tr>\n",
              "      <td>3</td>\n",
              "      <td>0.007680</td>\n",
              "      <td>0.007094</td>\n",
              "      <td>00:04</td>\n",
              "    </tr>\n",
              "    <tr>\n",
              "      <td>4</td>\n",
              "      <td>0.007633</td>\n",
              "      <td>0.006985</td>\n",
              "      <td>00:04</td>\n",
              "    </tr>\n",
              "    <tr>\n",
              "      <td>5</td>\n",
              "      <td>0.007601</td>\n",
              "      <td>0.007054</td>\n",
              "      <td>00:04</td>\n",
              "    </tr>\n",
              "    <tr>\n",
              "      <td>6</td>\n",
              "      <td>0.007587</td>\n",
              "      <td>0.007065</td>\n",
              "      <td>00:04</td>\n",
              "    </tr>\n",
              "    <tr>\n",
              "      <td>7</td>\n",
              "      <td>0.007427</td>\n",
              "      <td>0.007025</td>\n",
              "      <td>00:04</td>\n",
              "    </tr>\n",
              "    <tr>\n",
              "      <td>8</td>\n",
              "      <td>0.007721</td>\n",
              "      <td>0.007112</td>\n",
              "      <td>00:04</td>\n",
              "    </tr>\n",
              "    <tr>\n",
              "      <td>9</td>\n",
              "      <td>0.007482</td>\n",
              "      <td>0.006998</td>\n",
              "      <td>00:04</td>\n",
              "    </tr>\n",
              "    <tr>\n",
              "      <td>10</td>\n",
              "      <td>0.007448</td>\n",
              "      <td>0.006956</td>\n",
              "      <td>00:04</td>\n",
              "    </tr>\n",
              "    <tr>\n",
              "      <td>11</td>\n",
              "      <td>0.007531</td>\n",
              "      <td>0.007082</td>\n",
              "      <td>00:04</td>\n",
              "    </tr>\n",
              "    <tr>\n",
              "      <td>12</td>\n",
              "      <td>0.007519</td>\n",
              "      <td>0.006943</td>\n",
              "      <td>00:04</td>\n",
              "    </tr>\n",
              "    <tr>\n",
              "      <td>13</td>\n",
              "      <td>0.007616</td>\n",
              "      <td>0.007060</td>\n",
              "      <td>00:04</td>\n",
              "    </tr>\n",
              "    <tr>\n",
              "      <td>14</td>\n",
              "      <td>0.007598</td>\n",
              "      <td>0.007042</td>\n",
              "      <td>00:04</td>\n",
              "    </tr>\n",
              "    <tr>\n",
              "      <td>15</td>\n",
              "      <td>0.007552</td>\n",
              "      <td>0.006978</td>\n",
              "      <td>00:04</td>\n",
              "    </tr>\n",
              "    <tr>\n",
              "      <td>16</td>\n",
              "      <td>0.007525</td>\n",
              "      <td>0.007057</td>\n",
              "      <td>00:04</td>\n",
              "    </tr>\n",
              "    <tr>\n",
              "      <td>17</td>\n",
              "      <td>0.007518</td>\n",
              "      <td>0.007028</td>\n",
              "      <td>00:04</td>\n",
              "    </tr>\n",
              "    <tr>\n",
              "      <td>18</td>\n",
              "      <td>0.007540</td>\n",
              "      <td>0.006979</td>\n",
              "      <td>00:04</td>\n",
              "    </tr>\n",
              "    <tr>\n",
              "      <td>19</td>\n",
              "      <td>0.007657</td>\n",
              "      <td>0.006973</td>\n",
              "      <td>00:04</td>\n",
              "    </tr>\n",
              "    <tr>\n",
              "      <td>20</td>\n",
              "      <td>0.007578</td>\n",
              "      <td>0.007109</td>\n",
              "      <td>00:04</td>\n",
              "    </tr>\n",
              "    <tr>\n",
              "      <td>21</td>\n",
              "      <td>0.007603</td>\n",
              "      <td>0.007125</td>\n",
              "      <td>00:04</td>\n",
              "    </tr>\n",
              "    <tr>\n",
              "      <td>22</td>\n",
              "      <td>0.007776</td>\n",
              "      <td>0.007237</td>\n",
              "      <td>00:04</td>\n",
              "    </tr>\n",
              "    <tr>\n",
              "      <td>23</td>\n",
              "      <td>0.007752</td>\n",
              "      <td>0.007065</td>\n",
              "      <td>00:04</td>\n",
              "    </tr>\n",
              "    <tr>\n",
              "      <td>24</td>\n",
              "      <td>0.007758</td>\n",
              "      <td>0.007059</td>\n",
              "      <td>00:04</td>\n",
              "    </tr>\n",
              "    <tr>\n",
              "      <td>25</td>\n",
              "      <td>0.007422</td>\n",
              "      <td>0.007030</td>\n",
              "      <td>00:04</td>\n",
              "    </tr>\n",
              "    <tr>\n",
              "      <td>26</td>\n",
              "      <td>0.007675</td>\n",
              "      <td>0.007210</td>\n",
              "      <td>00:04</td>\n",
              "    </tr>\n",
              "    <tr>\n",
              "      <td>27</td>\n",
              "      <td>0.007630</td>\n",
              "      <td>0.007134</td>\n",
              "      <td>00:04</td>\n",
              "    </tr>\n",
              "    <tr>\n",
              "      <td>28</td>\n",
              "      <td>0.007591</td>\n",
              "      <td>0.007087</td>\n",
              "      <td>00:04</td>\n",
              "    </tr>\n",
              "    <tr>\n",
              "      <td>29</td>\n",
              "      <td>0.007687</td>\n",
              "      <td>0.007027</td>\n",
              "      <td>00:04</td>\n",
              "    </tr>\n",
              "  </tbody>\n",
              "</table>"
            ],
            "text/plain": [
              "<IPython.core.display.HTML object>"
            ]
          },
          "metadata": {
            "tags": []
          }
        }
      ]
    },
    {
      "cell_type": "code",
      "metadata": {
        "id": "AdpMFdnNGkHx",
        "colab_type": "code",
        "outputId": "22ec6507-32ed-440a-f938-3f50722f4377",
        "colab": {
          "base_uri": "https://localhost:8080/",
          "height": 285
        }
      },
      "source": [
        "# plot epochs VS validation loss\n",
        "plt.plot(learn.recorder.val_losses)"
      ],
      "execution_count": 23,
      "outputs": [
        {
          "output_type": "execute_result",
          "data": {
            "text/plain": [
              "[<matplotlib.lines.Line2D at 0x7f6136fcde48>]"
            ]
          },
          "metadata": {
            "tags": []
          },
          "execution_count": 23
        },
        {
          "output_type": "display_data",
          "data": {
            "image/png": "[encoded data removed]",
            "text/plain": [
              "<Figure size 432x288 with 1 Axes>"
            ]
          },
          "metadata": {
            "tags": [],
            "needs_background": "light"
          }
        }
      ]
    },
    {
      "cell_type": "code",
      "metadata": {
        "id": "0cf7k9IpvAce",
        "colab_type": "code",
        "colab": {}
      },
      "source": [
        "learn.save(\"AE-2\")"
      ],
      "execution_count": 0,
      "outputs": []
    },
    {
      "cell_type": "markdown",
      "metadata": {
        "id": "xAj6tyAdWKWU",
        "colab_type": "text"
      },
      "source": [
        "# Results"
      ]
    },
    {
      "cell_type": "markdown",
      "metadata": {
        "id": "HZpyMwqW3og4",
        "colab_type": "text"
      },
      "source": [
        "### Predicitons on the test"
      ]
    },
    {
      "cell_type": "code",
      "metadata": {
        "id": "4eF1YC1T37n8",
        "colab_type": "code",
        "outputId": "12acccd5-11b8-4779-c60e-7ec398d3a38a",
        "colab": {
          "base_uri": "https://localhost:8080/",
          "height": 17
        }
      },
      "source": [
        "expected, result, losses = learn.get_preds(ds_type=DatasetType.Valid, with_loss=True)"
      ],
      "execution_count": 25,
      "outputs": [
        {
          "output_type": "display_data",
          "data": {
            "text/html": [
              ""
            ],
            "text/plain": [
              "<IPython.core.display.HTML object>"
            ]
          },
          "metadata": {
            "tags": []
          }
        }
      ]
    },
    {
      "cell_type": "code",
      "metadata": {
        "id": "8VmgAEWK0zUS",
        "colab_type": "code",
        "outputId": "560195bc-b152-4d80-a5a3-eceb87317baa",
        "colab": {
          "base_uri": "https://localhost:8080/",
          "height": 374
        }
      },
      "source": [
        "expected, result, losses"
      ],
      "execution_count": 26,
      "outputs": [
        {
          "output_type": "execute_result",
          "data": {
            "text/plain": [
              "(tensor([[-0.5280, -0.5922,  1.0919, -0.0666],\n",
              "         [-0.4825, -0.5655,  0.5777,  0.4746],\n",
              "         [-0.4973, -0.5812, -0.6079,  0.5406],\n",
              "         ...,\n",
              "         [-0.5507, -0.5566, -1.1716, -1.5878],\n",
              "         [-0.2050, -0.3839, -1.4870, -0.6076],\n",
              "         [ 0.0619, -0.1952, -1.1052,  0.3817]]),\n",
              " tensor([[-0.5333, -0.5819,  1.0872, -0.0711],\n",
              "         [-0.4724, -0.6093,  0.5733,  0.4770],\n",
              "         [-0.4988, -0.5703, -0.6227,  0.5422],\n",
              "         ...,\n",
              "         [-0.5517, -0.5617, -1.2107, -1.6051],\n",
              "         [-0.1767, -0.3924, -1.4821, -0.6032],\n",
              "         [ 0.0446, -0.1671, -1.1240,  0.3776]]),\n",
              " tensor([[2.7649e-05, 1.0671e-04, 2.1242e-05, 2.0998e-05],\n",
              "         [1.0220e-04, 1.9247e-03, 1.9594e-05, 5.7886e-06],\n",
              "         [2.2282e-06, 1.1914e-04, 2.1695e-04, 2.5568e-06],\n",
              "         ...,\n",
              "         [9.3906e-07, 2.6275e-05, 1.5305e-03, 2.9847e-04],\n",
              "         [7.9981e-04, 7.2838e-05, 2.3929e-05, 1.8975e-05],\n",
              "         [3.0055e-04, 7.9219e-04, 3.5184e-04, 1.7213e-05]]))"
            ]
          },
          "metadata": {
            "tags": []
          },
          "execution_count": 26
        }
      ]
    },
    {
      "cell_type": "code",
      "metadata": {
        "id": "MIHYu1Pj1cT8",
        "colab_type": "code",
        "outputId": "50a50be3-c764-4329-ec86-f75f0c1ed6df",
        "colab": {
          "base_uri": "https://localhost:8080/",
          "height": 296
        }
      },
      "source": [
        "# plot of the losses with all 4 variables differentiated on validation set (row_number VS loss)\n",
        "plt.plot(losses)\n",
        "plt.yscale('log')\n",
        "plt.xlabel(\"row-number\")\n",
        "plt.ylabel(\"Loss\")"
      ],
      "execution_count": 27,
      "outputs": [
        {
          "output_type": "execute_result",
          "data": {
            "text/plain": [
              "Text(0, 0.5, 'Loss')"
            ]
          },
          "metadata": {
            "tags": []
          },
          "execution_count": 27
        },
        {
          "output_type": "display_data",
          "data": {
            "image/png": "[encoded data removed]",
            "text/plain": [
              "<Figure size 432x288 with 1 Axes>"
            ]
          },
          "metadata": {
            "tags": [],
            "needs_background": "light"
          }
        }
      ]
    },
    {
      "cell_type": "markdown",
      "metadata": {
        "id": "3XOWKEVKC0WR",
        "colab_type": "text"
      },
      "source": [
        "##### Note that below is the row-wise average. So, it computes the average of the losses of `m`, `pt`, `phi` and `eta` for each row.\n",
        "\n",
        "\n"
      ]
    },
    {
      "cell_type": "code",
      "metadata": {
        "id": "u0EVMcHH6md9",
        "colab_type": "code",
        "outputId": "5139af89-1f97-494e-b5ed-9756828bbca3",
        "colab": {
          "base_uri": "https://localhost:8080/",
          "height": 51
        }
      },
      "source": [
        "avg_loss = torch.sum(losses, (1,1)) / 4; avg_loss"
      ],
      "execution_count": 28,
      "outputs": [
        {
          "output_type": "execute_result",
          "data": {
            "text/plain": [
              "tensor([4.4151e-05, 5.1307e-04, 8.5217e-05,  ..., 4.6404e-04, 2.2889e-04,\n",
              "        3.6545e-04])"
            ]
          },
          "metadata": {
            "tags": []
          },
          "execution_count": 28
        }
      ]
    },
    {
      "cell_type": "code",
      "metadata": {
        "id": "9S5pk3SZ7dKc",
        "colab_type": "code",
        "outputId": "fd8619dc-81b1-498c-d061-ed91df28d29e",
        "colab": {
          "base_uri": "https://localhost:8080/",
          "height": 296
        }
      },
      "source": [
        "# plot of the row-wise average losses on validation set (row-number VS average loss)\n",
        "plt.plot(avg_loss)\n",
        "plt.yscale('log')\n",
        "plt.xlabel(\"row-number\")\n",
        "plt.ylabel(\"Loss\")"
      ],
      "execution_count": 29,
      "outputs": [
        {
          "output_type": "execute_result",
          "data": {
            "text/plain": [
              "Text(0, 0.5, 'Loss')"
            ]
          },
          "metadata": {
            "tags": []
          },
          "execution_count": 29
        },
        {
          "output_type": "display_data",
          "data": {
            "image/png": "[encoded data removed]",
            "text/plain": [
              "<Figure size 432x288 with 1 Axes>"
            ]
          },
          "metadata": {
            "tags": [],
            "needs_background": "light"
          }
        }
      ]
    },
    {
      "cell_type": "code",
      "metadata": {
        "id": "dm-RkuOeJA9q",
        "colab_type": "code",
        "outputId": "bd47004d-e15a-4b0e-cec9-dd15ea54ae9e",
        "colab": {
          "base_uri": "https://localhost:8080/",
          "height": 34
        }
      },
      "source": [
        "# Max, min and Average losses\n",
        "avg_loss.max(), avg_loss.min(), avg_loss.mean()"
      ],
      "execution_count": 30,
      "outputs": [
        {
          "output_type": "execute_result",
          "data": {
            "text/plain": [
              "(tensor(1.0007), tensor(1.3498e-06), tensor(0.0070))"
            ]
          },
          "metadata": {
            "tags": []
          },
          "execution_count": 30
        }
      ]
    },
    {
      "cell_type": "markdown",
      "metadata": {
        "id": "Ax0syCYtjDJj",
        "colab_type": "text"
      },
      "source": [
        "##### Note that the range of Losses in the below graph is upto 10^3 because of deviding by the data having smaller values."
      ]
    },
    {
      "cell_type": "code",
      "metadata": {
        "id": "x7vBEEd2LazX",
        "colab_type": "code",
        "outputId": "cf5740c5-f9f6-4fd1-f8ca-9cfe3baf0118",
        "colab": {
          "base_uri": "https://localhost:8080/",
          "height": 296
        }
      },
      "source": [
        "plt.plot((expected-result) / expected,)\n",
        "plt.yscale('log')\n",
        "plt.xlabel(\"row-number\")\n",
        "plt.ylabel(\"Loss\")"
      ],
      "execution_count": 31,
      "outputs": [
        {
          "output_type": "execute_result",
          "data": {
            "text/plain": [
              "Text(0, 0.5, 'Loss')"
            ]
          },
          "metadata": {
            "tags": []
          },
          "execution_count": 31
        },
        {
          "output_type": "display_data",
          "data": {
            "image/png": "[encoded data removed]",
            "text/plain": [
              "<Figure size 432x288 with 1 Axes>"
            ]
          },
          "metadata": {
            "tags": [],
            "needs_background": "light"
          }
        }
      ]
    },
    {
      "cell_type": "code",
      "metadata": {
        "id": "CHjMR75dfW6F",
        "colab_type": "code",
        "colab": {}
      },
      "source": [
        ""
      ],
      "execution_count": 0,
      "outputs": []
    }
  ]
}
